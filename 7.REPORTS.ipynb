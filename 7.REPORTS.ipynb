{
 "cells": [
  {
   "cell_type": "markdown",
   "metadata": {
    "application/vnd.databricks.v1+cell": {
     "cellMetadata": {},
     "inputWidgets": {},
     "nuid": "3b75e719-4dff-481b-a6ef-5d0c7fd65906",
     "showTitle": false,
     "title": ""
    }
   },
   "source": [
    "Neste notebook são feitas consultas (SQL) na tabela com as requisições da News API salvas. Essas consultas retornam relatórios a respeito dos dados salvos."
   ]
  },
  {
   "cell_type": "code",
   "execution_count": 0,
   "metadata": {
    "application/vnd.databricks.v1+cell": {
     "cellMetadata": {
      "byteLimit": 2048000,
      "rowLimit": 10000
     },
     "inputWidgets": {},
     "nuid": "2c481ff2-eb7c-4cda-8de1-f2ddf71893da",
     "showTitle": false,
     "title": ""
    }
   },
   "outputs": [
    {
     "output_type": "stream",
     "name": "stdout",
     "output_type": "stream",
     "text": [
      "+--------------------+------------------+\n|                info|articles_published|\n+--------------------+------------------+\n| author: Alexis Wnuk|                 1|\n|author: David Fisher|                 1|\n|author: Natasha M...|                 1|\n|  author: PRNewswire|                 2|\n|author: Research ...|                 1|\n|author: The Times...|                 1|\n|day_published: 2/...|                 1|\n|day_published: 3/...|                 6|\n|month_published: Oct|                 7|\n|source: GlobeNews...|                 1|\n|source: New Scien...|                 1|\n|source: New Zeala...|                 1|\n|    source: POPSUGAR|                 1|\n|  source: PRNewswire|                 2|\n|source: The Times...|                 1|\n|year_published: 2023|                 7|\n+--------------------+------------------+\n\n+--------------------+-----------------+------------------+-----------------+\n|                info|key_word_RESEARCH|key_word_MEDICINAL|key_word_CANNABIS|\n+--------------------+-----------------+------------------+-----------------+\n|day_published: 2/...|                0|                 0|                3|\n|day_published: 3/...|                7|                 0|                6|\n|month_published: ...|                7|                 0|                9|\n|year_published: 2023|                7|                 0|                9|\n+--------------------+-----------------+------------------+-----------------+\n\n"
     ]
    },
    {
     "output_type": "display_data",
     "data": {
      "text/html": [
       "<style scoped>\n",
       "  .ansiout {\n",
       "    display: block;\n",
       "    unicode-bidi: embed;\n",
       "    white-space: pre-wrap;\n",
       "    word-wrap: break-word;\n",
       "    word-break: break-all;\n",
       "    font-family: \"Source Code Pro\", \"Menlo\", monospace;;\n",
       "    font-size: 13px;\n",
       "    color: #555;\n",
       "    margin-left: 4px;\n",
       "    line-height: 19px;\n",
       "  }\n",
       "</style>"
      ]
     },
     "metadata": {
      "application/vnd.databricks.v1+output": {
       "arguments": {},
       "data": "",
       "errorSummary": "Cancelled",
       "errorTraceType": "html",
       "metadata": {},
       "type": "ipynbError"
      }
     },
     "output_type": "display_data"
    }
   ],
   "source": [
    "from datetime import datetime\n",
    "import time\n",
    "\n",
    "HOUR_TO_RUN_REPORT = '22'    # 22\n",
    "MINUTE_TO_RUN_REPORT = '30'  # 30\n",
    "\n",
    "def report_articles_published():\n",
    "    report_articles_published = spark.sql(\n",
    "    \"SELECT CONCAT('year_published: ', YEAR(publishedAt)) AS info, COUNT(*) AS articles_published \"\n",
    "    \"FROM temp_table_view \"\n",
    "    \"GROUP BY YEAR(publishedAt) \"\n",
    "    \"UNION ALL \"\n",
    "    \"SELECT CONCAT('month_published: ', \"\n",
    "    \"               CASE \"\n",
    "    \"                   WHEN MONTH(publishedAt) = 1 THEN 'Jan' \"\n",
    "    \"                   WHEN MONTH(publishedAt) = 2 THEN 'Feb' \"\n",
    "    \"                   WHEN MONTH(publishedAt) = 3 THEN 'Mar' \"\n",
    "    \"                   WHEN MONTH(publishedAt) = 4 THEN 'Apr' \"\n",
    "    \"                   WHEN MONTH(publishedAt) = 5 THEN 'May' \"\n",
    "    \"                   WHEN MONTH(publishedAt) = 6 THEN 'Jun' \"\n",
    "    \"                   WHEN MONTH(publishedAt) = 7 THEN 'Jul' \"\n",
    "    \"                   WHEN MONTH(publishedAt) = 8 THEN 'Aug' \"\n",
    "    \"                   WHEN MONTH(publishedAt) = 9 THEN 'Sep' \"\n",
    "    \"                   WHEN MONTH(publishedAt) = 10 THEN 'Oct' \"\n",
    "    \"                   WHEN MONTH(publishedAt) = 11 THEN 'Nov' \"\n",
    "    \"                   WHEN MONTH(publishedAt) = 12 THEN 'Dec' \"\n",
    "    \"               END) AS info, \"\n",
    "    \"       COUNT(*) AS articles_published \"\n",
    "    \"FROM temp_table_view \"\n",
    "    \"GROUP BY YEAR(publishedAt), MONTH(publishedAt) \"\n",
    "    \"UNION ALL \"\n",
    "    \"SELECT CONCAT('day_published: ', DAY(publishedAt), '/', \"\n",
    "    \"               CASE \"\n",
    "    \"                   WHEN MONTH(publishedAt) = 1 THEN 'Jan' \"\n",
    "    \"                   WHEN MONTH(publishedAt) = 2 THEN 'Feb' \"\n",
    "    \"                   WHEN MONTH(publishedAt) = 3 THEN 'Mar' \"\n",
    "    \"                   WHEN MONTH(publishedAt) = 4 THEN 'Apr' \"\n",
    "    \"                   WHEN MONTH(publishedAt) = 5 THEN 'May' \"\n",
    "    \"                   WHEN MONTH(publishedAt) = 6 THEN 'Jun' \"\n",
    "    \"                   WHEN MONTH(publishedAt) = 7 THEN 'Jul' \"\n",
    "    \"                   WHEN MONTH(publishedAt) = 8 THEN 'Aug' \"\n",
    "    \"                   WHEN MONTH(publishedAt) = 9 THEN 'Sep' \"\n",
    "    \"                   WHEN MONTH(publishedAt) = 10 THEN 'Oct' \"\n",
    "    \"                   WHEN MONTH(publishedAt) = 11 THEN 'Nov' \"\n",
    "    \"                   WHEN MONTH(publishedAt) = 12 THEN 'Dec' \"\n",
    "    \"               END, '/', YEAR(publishedAt)) AS info, COUNT(*) AS articles_published \"\n",
    "    \"FROM temp_table_view \"\n",
    "    \"GROUP BY YEAR(publishedAt), MONTH(publishedAt), DAY(publishedAt) \"\n",
    "    \"UNION ALL \"\n",
    "    \"SELECT CASE \"\n",
    "    \"           WHEN author IS NULL THEN CONCAT('author: ', source) \"\n",
    "    \"           ELSE CONCAT('author: ', author) \"\n",
    "    \"       END AS info, \"\n",
    "    \"       COUNT(*) AS articles_published \"\n",
    "    \"FROM temp_table_view \"\n",
    "    \"GROUP BY info \"\n",
    "    \"UNION ALL \"\n",
    "    \"SELECT CONCAT('source: ', source) AS info, COUNT(*) AS articles_published \"\n",
    "    \"FROM temp_table_view \"\n",
    "    \"GROUP BY source \"\n",
    "    \"ORDER BY info\"\n",
    "    )\n",
    "\n",
    "    return report_articles_published\n",
    "\n",
    "def report_key_words():\n",
    "    report_key_words = spark.sql(\n",
    "    \"SELECT \"\n",
    "    \"   CONCAT('year_published: ', YEAR(publishedAt)) AS info, \"\n",
    "    \"   SUM(REGEXP_COUNT(content, '(?i)research') + REGEXP_COUNT(description, '(?i)research') + REGEXP_COUNT(title, '(?i)research')) AS key_word_RESEARCH, \"\n",
    "    \"   SUM(REGEXP_COUNT(content, '(?i)medicinal') + REGEXP_COUNT(description, '(?i)medicinal') + REGEXP_COUNT(title, '(?i)medicinal')) AS key_word_MEDICINAL, \"\n",
    "    \"   SUM(REGEXP_COUNT(content, '(?i)cannabis') + REGEXP_COUNT(description, '(?i)cannabis') + REGEXP_COUNT(title, '(?i)cannabis')) AS key_word_CANNABIS \"\n",
    "    \"FROM temp_table_view \"\n",
    "    \"GROUP BY YEAR(publishedAt) \"\n",
    "    \"UNION ALL \"\n",
    "    \"SELECT \"\n",
    "    \"    CONCAT('month_published: ', \"\n",
    "    \"        CASE \"\n",
    "    \"            WHEN MONTH(publishedAt) = 1 THEN 'Jan' \"\n",
    "    \"            WHEN MONTH(publishedAt) = 2 THEN 'Feb' \"\n",
    "    \"            WHEN MONTH(publishedAt) = 3 THEN 'Mar' \"\n",
    "    \"            WHEN MONTH(publishedAt) = 4 THEN 'Apr' \"\n",
    "    \"            WHEN MONTH(publishedAt) = 5 THEN 'May' \"\n",
    "    \"            WHEN MONTH(publishedAt) = 6 THEN 'Jun' \"\n",
    "    \"            WHEN MONTH(publishedAt) = 7 THEN 'Jul' \"\n",
    "    \"            WHEN MONTH(publishedAt) = 8 THEN 'Aug' \"\n",
    "    \"            WHEN MONTH(publishedAt) = 9 THEN 'Sep' \"\n",
    "    \"            WHEN MONTH(publishedAt) = 10 THEN 'Oct' \"\n",
    "    \"            WHEN MONTH(publishedAt) = 11 THEN 'Nov' \"\n",
    "    \"            WHEN MONTH(publishedAt) = 12 THEN 'Dec' \"\n",
    "    \"        END, '/', YEAR(publishedAt)) AS info, \"\n",
    "    \"   SUM(REGEXP_COUNT(content, '(?i)research') + REGEXP_COUNT(description, '(?i)research') + REGEXP_COUNT(title, '(?i)research')) AS key_word_RESEARCH, \"\n",
    "    \"   SUM(REGEXP_COUNT(content, '(?i)medicinal') + REGEXP_COUNT(description, '(?i)medicinal') + REGEXP_COUNT(title, '(?i)medicinal')) AS key_word_MEDICINAL, \"\n",
    "    \"   SUM(REGEXP_COUNT(content, '(?i)cannabis') + REGEXP_COUNT(description, '(?i)cannabis') + REGEXP_COUNT(title, '(?i)cannabis')) AS key_word_CANNABIS \"\n",
    "    \"FROM temp_table_view \"\n",
    "    \"GROUP BY YEAR(publishedAt), MONTH(publishedAt) \"\n",
    "    \"UNION ALL \"\n",
    "    \"SELECT \"\n",
    "    \"    CONCAT('day_published: ', DAY(publishedAt), '/', \"\n",
    "    \"        CASE \"\n",
    "    \"            WHEN MONTH(publishedAt) = 1 THEN 'Jan' \"\n",
    "    \"            WHEN MONTH(publishedAt) = 2 THEN 'Feb' \"\n",
    "    \"            WHEN MONTH(publishedAt) = 3 THEN 'Mar' \"\n",
    "    \"            WHEN MONTH(publishedAt) = 4 THEN 'Apr' \"\n",
    "    \"            WHEN MONTH(publishedAt) = 5 THEN 'May' \"\n",
    "    \"            WHEN MONTH(publishedAt) = 6 THEN 'Jun' \"\n",
    "    \"            WHEN MONTH(publishedAt) = 7 THEN 'Jul' \"\n",
    "    \"            WHEN MONTH(publishedAt) = 8 THEN 'Aug' \"\n",
    "    \"            WHEN MONTH(publishedAt) = 9 THEN 'Sep' \"\n",
    "    \"            WHEN MONTH(publishedAt) = 10 THEN 'Oct' \"\n",
    "    \"            WHEN MONTH(publishedAt) = 11 THEN 'Nov' \"\n",
    "    \"            WHEN MONTH(publishedAt) = 12 THEN 'Dec' \"\n",
    "    \"        END, '/', YEAR(publishedAt)) AS info, \"\n",
    "    \"   SUM(REGEXP_COUNT(content, '(?i)research') + REGEXP_COUNT(description, '(?i)research') + REGEXP_COUNT(title, '(?i)research')) AS key_word_RESEARCH, \"\n",
    "    \"   SUM(REGEXP_COUNT(content, '(?i)medicinal') + REGEXP_COUNT(description, '(?i)medicinal') + REGEXP_COUNT(title, '(?i)medicinal')) AS key_word_MEDICINAL, \"\n",
    "    \"   SUM(REGEXP_COUNT(content, '(?i)cannabis') + REGEXP_COUNT(description, '(?i)cannabis') + REGEXP_COUNT(title, '(?i)cannabis')) AS key_word_CANNABIS \"\n",
    "    \"FROM temp_table_view \"\n",
    "    \"GROUP BY YEAR(publishedAt), MONTH(publishedAt), DAY(publishedAt) \"\n",
    "    \"ORDER BY info \"\n",
    "    )\n",
    "\n",
    "    return report_key_words\n",
    "\n",
    "while True:\n",
    "    if (str(datetime.now().hour) == HOUR_TO_RUN_REPORT) and (str(datetime.now().minute) == MINUTE_TO_RUN_REPORT):\n",
    "        if spark.catalog.tableExists('table_articles'):\n",
    "            spark.sql('REFRESH TABLE table_articles')\n",
    "        table = spark.read.format('parquet').load('/FileStore/tables/table_articles')\n",
    "        table.createOrReplaceTempView('temp_table_view')\n",
    "\n",
    "        report_articles_published = report_articles_published()\n",
    "        report_articles_published.write.mode('overwrite').format('parquet').option(\n",
    "        'path', '/FileStore/tables/report_articles_published').saveAsTable('report_articles_published')\n",
    "        report_articles_published.show()\n",
    "\n",
    "        report_key_words = report_key_words()\n",
    "        report_key_words.write.mode('overwrite').format('parquet').option(\n",
    "            'path', '/FileStore/tables/report_key_words').saveAsTable('report_key_words')\n",
    "        report_key_words.show()\n",
    "\n",
    "        time.sleep(100) # 100 seconds"
   ]
  },
  {
   "cell_type": "code",
   "execution_count": 0,
   "metadata": {
    "application/vnd.databricks.v1+cell": {
     "cellMetadata": {
      "byteLimit": 2048000,
      "implicitDf": true,
      "rowLimit": 10000
     },
     "inputWidgets": {},
     "nuid": "046eb64c-514d-4ee9-bc4f-826a22111848",
     "showTitle": false,
     "title": ""
    }
   },
   "outputs": [
    {
     "output_type": "display_data",
     "data": {
      "text/html": [
       "<style scoped>\n",
       "  .table-result-container {\n",
       "    max-height: 300px;\n",
       "    overflow: auto;\n",
       "  }\n",
       "  table, th, td {\n",
       "    border: 1px solid black;\n",
       "    border-collapse: collapse;\n",
       "  }\n",
       "  th, td {\n",
       "    padding: 5px;\n",
       "  }\n",
       "  th {\n",
       "    text-align: left;\n",
       "  }\n",
       "</style><div class='table-result-container'><table class='table-result'><thead style='background-color: white'><tr><th>info</th><th>articles_published</th></tr></thead><tbody><tr><td>author: Alexis Wnuk</td><td>1</td></tr><tr><td>author: David Fisher</td><td>1</td></tr><tr><td>author: Natasha Marsh</td><td>1</td></tr><tr><td>author: PRNewswire</td><td>2</td></tr><tr><td>author: Research and Markets</td><td>1</td></tr><tr><td>author: The Times of Israel</td><td>1</td></tr><tr><td>day_published: 2/Oct/2023</td><td>1</td></tr><tr><td>day_published: 3/Oct/2023</td><td>6</td></tr><tr><td>month_published: Oct</td><td>7</td></tr><tr><td>source: GlobeNewswire</td><td>1</td></tr><tr><td>source: New Scientist</td><td>1</td></tr><tr><td>source: New Zealand Herald</td><td>1</td></tr><tr><td>source: POPSUGAR</td><td>1</td></tr><tr><td>source: PRNewswire</td><td>2</td></tr><tr><td>source: The Times of Israel</td><td>1</td></tr><tr><td>year_published: 2023</td><td>7</td></tr></tbody></table></div>"
      ]
     },
     "metadata": {
      "application/vnd.databricks.v1+output": {
       "addedWidgets": {},
       "aggData": [],
       "aggError": "",
       "aggOverflow": false,
       "aggSchema": [],
       "aggSeriesLimitReached": false,
       "aggType": "",
       "arguments": {},
       "columnCustomDisplayInfos": {},
       "data": [
        [
         "author: Alexis Wnuk",
         1
        ],
        [
         "author: David Fisher",
         1
        ],
        [
         "author: Natasha Marsh",
         1
        ],
        [
         "author: PRNewswire",
         2
        ],
        [
         "author: Research and Markets",
         1
        ],
        [
         "author: The Times of Israel",
         1
        ],
        [
         "day_published: 2/Oct/2023",
         1
        ],
        [
         "day_published: 3/Oct/2023",
         6
        ],
        [
         "month_published: Oct",
         7
        ],
        [
         "source: GlobeNewswire",
         1
        ],
        [
         "source: New Scientist",
         1
        ],
        [
         "source: New Zealand Herald",
         1
        ],
        [
         "source: POPSUGAR",
         1
        ],
        [
         "source: PRNewswire",
         2
        ],
        [
         "source: The Times of Israel",
         1
        ],
        [
         "year_published: 2023",
         7
        ]
       ],
       "datasetInfos": [],
       "dbfsResultPath": null,
       "isJsonSchema": true,
       "metadata": {},
       "overflow": false,
       "plotOptions": {
        "customPlotOptions": {},
        "displayType": "table",
        "pivotAggregation": null,
        "pivotColumns": null,
        "xColumns": null,
        "yColumns": null
       },
       "removedWidgets": [],
       "schema": [
        {
         "metadata": "{}",
         "name": "info",
         "type": "\"string\""
        },
        {
         "metadata": "{}",
         "name": "articles_published",
         "type": "\"long\""
        }
       ],
       "type": "table"
      }
     },
     "output_type": "display_data"
    }
   ],
   "source": [
    "%sql\n",
    "SELECT *\n",
    "FROM report_articles_published"
   ]
  },
  {
   "cell_type": "code",
   "execution_count": 0,
   "metadata": {
    "application/vnd.databricks.v1+cell": {
     "cellMetadata": {
      "byteLimit": 2048000,
      "implicitDf": true,
      "rowLimit": 10000
     },
     "inputWidgets": {},
     "nuid": "0dd858c3-6d4b-4907-927b-4a3be38f1834",
     "showTitle": false,
     "title": ""
    }
   },
   "outputs": [
    {
     "output_type": "display_data",
     "data": {
      "text/html": [
       "<style scoped>\n",
       "  .table-result-container {\n",
       "    max-height: 300px;\n",
       "    overflow: auto;\n",
       "  }\n",
       "  table, th, td {\n",
       "    border: 1px solid black;\n",
       "    border-collapse: collapse;\n",
       "  }\n",
       "  th, td {\n",
       "    padding: 5px;\n",
       "  }\n",
       "  th {\n",
       "    text-align: left;\n",
       "  }\n",
       "</style><div class='table-result-container'><table class='table-result'><thead style='background-color: white'><tr><th>info</th><th>key_word_RESEARCH</th><th>key_word_MEDICINAL</th><th>key_word_CANNABIS</th></tr></thead><tbody><tr><td>day_published: 2/Oct/2023</td><td>0</td><td>0</td><td>3</td></tr><tr><td>day_published: 3/Oct/2023</td><td>7</td><td>0</td><td>6</td></tr><tr><td>month_published: Oct/2023</td><td>7</td><td>0</td><td>9</td></tr><tr><td>year_published: 2023</td><td>7</td><td>0</td><td>9</td></tr></tbody></table></div>"
      ]
     },
     "metadata": {
      "application/vnd.databricks.v1+output": {
       "addedWidgets": {},
       "aggData": [],
       "aggError": "",
       "aggOverflow": false,
       "aggSchema": [],
       "aggSeriesLimitReached": false,
       "aggType": "",
       "arguments": {},
       "columnCustomDisplayInfos": {},
       "data": [
        [
         "day_published: 2/Oct/2023",
         0,
         0,
         3
        ],
        [
         "day_published: 3/Oct/2023",
         7,
         0,
         6
        ],
        [
         "month_published: Oct/2023",
         7,
         0,
         9
        ],
        [
         "year_published: 2023",
         7,
         0,
         9
        ]
       ],
       "datasetInfos": [],
       "dbfsResultPath": null,
       "isJsonSchema": true,
       "metadata": {},
       "overflow": false,
       "plotOptions": {
        "customPlotOptions": {},
        "displayType": "table",
        "pivotAggregation": null,
        "pivotColumns": null,
        "xColumns": null,
        "yColumns": null
       },
       "removedWidgets": [],
       "schema": [
        {
         "metadata": "{}",
         "name": "info",
         "type": "\"string\""
        },
        {
         "metadata": "{}",
         "name": "key_word_RESEARCH",
         "type": "\"long\""
        },
        {
         "metadata": "{}",
         "name": "key_word_MEDICINAL",
         "type": "\"long\""
        },
        {
         "metadata": "{}",
         "name": "key_word_CANNABIS",
         "type": "\"long\""
        }
       ],
       "type": "table"
      }
     },
     "output_type": "display_data"
    }
   ],
   "source": [
    "%sql\n",
    "SELECT *\n",
    "FROM report_key_words"
   ]
  },
  {
   "cell_type": "markdown",
   "metadata": {
    "application/vnd.databricks.v1+cell": {
     "cellMetadata": {},
     "inputWidgets": {},
     "nuid": "d86a7ccf-cbe8-493f-a700-2f1f8d0918e8",
     "showTitle": false,
     "title": ""
    }
   },
   "source": [
    "#### Consultas gerais manuais (Python)"
   ]
  },
  {
   "cell_type": "code",
   "execution_count": 0,
   "metadata": {
    "application/vnd.databricks.v1+cell": {
     "cellMetadata": {
      "byteLimit": 2048000,
      "rowLimit": 10000
     },
     "inputWidgets": {},
     "nuid": "2af3c715-1e20-4ce0-92fa-f5bf5fa7da27",
     "showTitle": false,
     "title": ""
    }
   },
   "outputs": [
    {
     "output_type": "display_data",
     "data": {
      "text/html": [
       "<style scoped>\n",
       "  .table-result-container {\n",
       "    max-height: 300px;\n",
       "    overflow: auto;\n",
       "  }\n",
       "  table, th, td {\n",
       "    border: 1px solid black;\n",
       "    border-collapse: collapse;\n",
       "  }\n",
       "  th, td {\n",
       "    padding: 5px;\n",
       "  }\n",
       "  th {\n",
       "    text-align: left;\n",
       "  }\n",
       "</style><div class='table-result-container'><table class='table-result'><thead style='background-color: white'><tr><th>author</th><th>content</th><th>description</th><th>publishedAt</th><th>source</th><th>title</th><th>url</th><th>urlToImage</th></tr></thead><tbody><tr><td>Activist Post</td><td>By B.N. Frank\r\n",
       "A growing number of American emergency responders, lawmakers, and residents are becoming very concerned about dangers posed by robotaxis and other autonomous vehicles (AVs) (see 1, 2, … [+7186 chars]</td><td>By B.N. Frank A growing number of American emergency responders, lawmakers, and residents are becoming very concerned about dangers posed by robotaxis and other autonomous...\n",
       "Judge Rules on Tesla Lawsuit Allegations that “Self-Driving” Claims Were Misleading</td><td>2023-10-02T22:57:28Z</td><td>Activistpost.com</td><td>Judge Rules on Tesla Lawsuit Allegations that “Self-Driving” Claims Were Misleading</td><td>https://www.activistpost.com/2023/10/judge-rules-on-tesla-lawsuit-allegations-that-self-driving-claims-were-misleading.html</td><td>https://www.activistpost.com/wp-content/uploads/2021/04/Automated-Vehicles-1.jpg</td></tr><tr><td>Fred Lambert</td><td>We get a rare look at a Tesla Cybertruck launching from a standstill, and it looks more like a rocket than a pickup truck.\r\n",
       "Electric vehicles, in general and Tesla vehicles, in particular tend to hav… [+1345 chars]</td><td>We get a rare look at a Tesla Cybertruck launching from a standstill and it looks more like a rocket than a pickup truck.\n",
       " more…\n",
       "The post Watch Tesla Cybertruck launch like a rocket from a standstill appeared first on Electrek.</td><td>2023-10-02T22:55:27Z</td><td>Electrek</td><td>Watch Tesla Cybertruck launch like a rocket from a standstill</td><td>https://electrek.co/2023/10/02/tesla-cybertruck-launch-rocket-video/</td><td>https://i0.wp.com/electrek.co/wp-content/uploads/sites/3/2023/10/Screenshot-2023-10-02-at-6.52.51-PM.jpg?resize=1200%2C628&quality=82&strip=all&ssl=1</td></tr><tr><td>techcrunch.com</td><td>In a victory for Tesla, a California federal judge ruled over the weekend that a group of Tesla owners cannot pursue in court claims that the company falsely advertised its automated features. Instea… [+297 chars]</td><td>In a victory for Tesla, a California federal judge ruled over the weekend that a group of Tesla owners cannot pursue in court claims that the company falsely advertised its automated features. Instead, they will have to face individual arbitration. U.S. Distr…</td><td>2023-10-02T22:50:06Z</td><td>Biztoc.com</td><td>Tesla Autopilot arbitration win could set legal benchmark in auto industry</td><td>https://biztoc.com/x/140ce956493b5f04</td><td>https://c.biztoc.com/p/140ce956493b5f04/s.webp</td></tr><tr><td>Julie Coleman</td><td>CNBC's Jim Cramer on Monday told investors that while most stocks can't withstand the \"gravitational pull\" of the bond market, several prominent mega-cap tech stocks with cash in reserve are able to … [+2040 chars]</td><td>CNBC's Jim Cramer on Monday told investors his \"Magnificent Seven\" mega-cap tech stocks are the only ones able to compete with the bond market.</td><td>2023-10-02T22:48:15Z</td><td>CNBC</td><td>Jim Cramer lauds his 'Magnificent Seven' tech mega caps as bonds rise</td><td>https://www.cnbc.com/2023/10/02/jim-cramer-lauds-his-magnificent-seven-tech-mega-caps-as-bonds-rise.html</td><td>https://image.cnbcfm.com/api/v1/image/105842165-1554931933070img_1295r.jpg?v=1696285776&w=1920&h=1080</td></tr><tr><td>n-tv NACHRICHTEN</td><td>Twitter heißt schon seit einer Weile X. Mit dem neuen Namen könnten allerdings auch einige Markenrechtsverletzungen einhergehen. Viele Betriebe haben lange zuvor entsprechende Markenzeichen registrie… [+1899 chars]</td><td>Twitter heißt schon seit einer Weile X. Mit dem neuen Namen könnten allerdings auch einige Markenrechtsverletzungen einhergehen. Viele Betriebe haben lange zuvor entsprechende Markenzeichen registriert, darunter auch das US-Unternehmen X Social Media. Das rei…</td><td>2023-10-02T22:44:13Z</td><td>N-tv.de</td><td>Verletzung der Markenrechte: Kurznachrichtendienst \"X\" kassiert Klage in Florida</td><td>https://www.n-tv.de/wirtschaft/Kurznachrichtendienst-X-kassiert-Klage-in-Florida-article24437883.html</td><td>https://bilder2.n-tv.de/img/incoming/crop24437885/3641325282-cImg_16_9-w1200/427478500.jpg</td></tr><tr><td>Garth Franklin</td><td>Netflix has acquired worldwide rights to the Toronto Film Fest entry “His Three Daughters” starring Natasha Lyonne, Elizabeth Olsen and Carrie Coon.\r\n",
       "The deal was reportedly made for just under $7 mi… [+850 chars]</td><td>Netflix has acquired worldwide rights to the Toronto Film Fest entry “His Three Daughters” starring Natasha Lyonne, Elizabeth Olsen and Carrie Coon. The deal was reportedly made for just under $7 million and follows the three actresses who play very different…</td><td>2023-10-02T22:16:09Z</td><td>Dark Horizons</td><td>“Musk,” “Three Daughters” Get Acquired</td><td>https://www.darkhorizons.com/musk-three-daughters-get-acquired/</td><td>https://cdndh.darkhorizons.com/wp-content/uploads/2023/10/musk-three-daughters-get-acquired.jpg</td></tr><tr><td>Admin</td><td>A California federal judge has ruled that a group of people who own cars made by Tesla Inc TSLA.O must pursue claims that the company misled the public about its autopilot features in individual arbi… [+2174 chars]</td><td>A California federal judge has ruled that a group of people who own cars made by Tesla Inc TSLA.O must pursue claims that the company misled the public about its autopilot features in individual arbitration rather than court. The ruling …</td><td>2023-10-02T22:38:32Z</td><td>Insurance Journal</td><td>California Judge Rules Tesla Owners Must Arbitrate False Ad Claims Over Autopilot Feature- Ruling</td><td>https://www.insurancejournal.com/news/west/2023/10/02/742697.htm</td><td>null</td></tr><tr><td>Peter Johnson</td><td>With Honda’s EV offensive finally starting, the Japanese automaker is already giving us a preview of what could be its next-gen electric SUV and sedan concepts in its latest video.\r\n",
       "After releasing n… [+3197 chars]</td><td>With Honda’s EV offensive finally starting, the Japanese automaker is already giving us a preview of what could be its next-gen electric SUV and sedan concepts in its latest video.\n",
       " more…\n",
       "The post Honda reveals new electric SUV and sedan concepts in latest vi…</td><td>2023-10-02T22:00:58Z</td><td>Electrek</td><td>Honda reveals new electric SUV and sedan concepts in latest video</td><td>https://electrek.co/2023/10/02/honda-reveals-new-electric-suv-sedan-concepts-video/</td><td>https://i0.wp.com/electrek.co/wp-content/uploads/sites/3/2023/10/Honda-new-electric-SUV-concept.jpeg?resize=1200%2C628&quality=82&strip=all&ssl=1</td></tr><tr><td>newsfeedback@fool.com (Brian Boyle from The Daily Upside)</td><td>Want to buy a brand new Rivian EV for way under cost?\r\n",
       "On Monday, the company announced an expectations-beating jump in deliveries for its third quarter. But for each sale of its $80,000 truck, Rivia… [+2475 chars]</td><td>Want to buy a brand new Rivian EV for way under cost? On Monday, the company announced an expectations-beating jump in deliveries for its third...</td><td>2023-10-02T22:00:10Z</td><td>Thedailyupside.com</td><td>Rivian Finally Sees Sales Increase, But Not Nearly Fast Enough</td><td>https://www.thedailyupside.com/industries/electric-vehicles/rivian-finally-sees-sales-increase-but-not-nearly-fast-enough/</td><td>https://www.thedailyupside.com/wp-content/uploads/2023/10/1_rivian-truck_10-03-23_unsplash-Wes-Hicks-1200x800.png</td></tr><tr><td>thedailyupside.com</td><td>Want to buy a brand new Rivian EV for way under cost?On Monday, the company announced an expectations-beating jump in deliveries for its third quarter. But for each sale of its $80,000 truck, Rivian … [+288 chars]</td><td>Want to buy a brand new Rivian EV for way under cost? On Monday, the company announced an expectations-beating jump in deliveries for its third quarter. But for each sale of its $80,000 truck, Rivian is still losing $33,000, according to a Wall Street Journal…</td><td>2023-10-02T22:00:06Z</td><td>Biztoc.com</td><td>Rivian Finally Sees Sales Increase, But Not Nearly Fast Enough</td><td>https://biztoc.com/x/b53c325adcbc1467</td><td>https://c.biztoc.com/p/b53c325adcbc1467/s.webp</td></tr></tbody></table></div>"
      ]
     },
     "metadata": {
      "application/vnd.databricks.v1+output": {
       "addedWidgets": {},
       "aggData": [],
       "aggError": "",
       "aggOverflow": false,
       "aggSchema": [],
       "aggSeriesLimitReached": false,
       "aggType": "",
       "arguments": {},
       "columnCustomDisplayInfos": {},
       "data": [
        [
         "Activist Post",
         "By B.N. Frank\r\nA growing number of American emergency responders, lawmakers, and residents are becoming very concerned about dangers posed by robotaxis and other autonomous vehicles (AVs) (see 1, 2, … [+7186 chars]",
         "By B.N. Frank A growing number of American emergency responders, lawmakers, and residents are becoming very concerned about dangers posed by robotaxis and other autonomous...\nJudge Rules on Tesla Lawsuit Allegations that “Self-Driving” Claims Were Misleading",
         "2023-10-02T22:57:28Z",
         "Activistpost.com",
         "Judge Rules on Tesla Lawsuit Allegations that “Self-Driving” Claims Were Misleading",
         "https://www.activistpost.com/2023/10/judge-rules-on-tesla-lawsuit-allegations-that-self-driving-claims-were-misleading.html",
         "https://www.activistpost.com/wp-content/uploads/2021/04/Automated-Vehicles-1.jpg"
        ],
        [
         "Fred Lambert",
         "We get a rare look at a Tesla Cybertruck launching from a standstill, and it looks more like a rocket than a pickup truck.\r\nElectric vehicles, in general and Tesla vehicles, in particular tend to hav… [+1345 chars]",
         "We get a rare look at a Tesla Cybertruck launching from a standstill and it looks more like a rocket than a pickup truck.\n more…\nThe post Watch Tesla Cybertruck launch like a rocket from a standstill appeared first on Electrek.",
         "2023-10-02T22:55:27Z",
         "Electrek",
         "Watch Tesla Cybertruck launch like a rocket from a standstill",
         "https://electrek.co/2023/10/02/tesla-cybertruck-launch-rocket-video/",
         "https://i0.wp.com/electrek.co/wp-content/uploads/sites/3/2023/10/Screenshot-2023-10-02-at-6.52.51-PM.jpg?resize=1200%2C628&quality=82&strip=all&ssl=1"
        ],
        [
         "techcrunch.com",
         "In a victory for Tesla, a California federal judge ruled over the weekend that a group of Tesla owners cannot pursue in court claims that the company falsely advertised its automated features. Instea… [+297 chars]",
         "In a victory for Tesla, a California federal judge ruled over the weekend that a group of Tesla owners cannot pursue in court claims that the company falsely advertised its automated features. Instead, they will have to face individual arbitration. U.S. Distr…",
         "2023-10-02T22:50:06Z",
         "Biztoc.com",
         "Tesla Autopilot arbitration win could set legal benchmark in auto industry",
         "https://biztoc.com/x/140ce956493b5f04",
         "https://c.biztoc.com/p/140ce956493b5f04/s.webp"
        ],
        [
         "Julie Coleman",
         "CNBC's Jim Cramer on Monday told investors that while most stocks can't withstand the \"gravitational pull\" of the bond market, several prominent mega-cap tech stocks with cash in reserve are able to … [+2040 chars]",
         "CNBC's Jim Cramer on Monday told investors his \"Magnificent Seven\" mega-cap tech stocks are the only ones able to compete with the bond market.",
         "2023-10-02T22:48:15Z",
         "CNBC",
         "Jim Cramer lauds his 'Magnificent Seven' tech mega caps as bonds rise",
         "https://www.cnbc.com/2023/10/02/jim-cramer-lauds-his-magnificent-seven-tech-mega-caps-as-bonds-rise.html",
         "https://image.cnbcfm.com/api/v1/image/105842165-1554931933070img_1295r.jpg?v=1696285776&w=1920&h=1080"
        ],
        [
         "n-tv NACHRICHTEN",
         "Twitter heißt schon seit einer Weile X. Mit dem neuen Namen könnten allerdings auch einige Markenrechtsverletzungen einhergehen. Viele Betriebe haben lange zuvor entsprechende Markenzeichen registrie… [+1899 chars]",
         "Twitter heißt schon seit einer Weile X. Mit dem neuen Namen könnten allerdings auch einige Markenrechtsverletzungen einhergehen. Viele Betriebe haben lange zuvor entsprechende Markenzeichen registriert, darunter auch das US-Unternehmen X Social Media. Das rei…",
         "2023-10-02T22:44:13Z",
         "N-tv.de",
         "Verletzung der Markenrechte: Kurznachrichtendienst \"X\" kassiert Klage in Florida",
         "https://www.n-tv.de/wirtschaft/Kurznachrichtendienst-X-kassiert-Klage-in-Florida-article24437883.html",
         "https://bilder2.n-tv.de/img/incoming/crop24437885/3641325282-cImg_16_9-w1200/427478500.jpg"
        ],
        [
         "Garth Franklin",
         "Netflix has acquired worldwide rights to the Toronto Film Fest entry “His Three Daughters” starring Natasha Lyonne, Elizabeth Olsen and Carrie Coon.\r\nThe deal was reportedly made for just under $7 mi… [+850 chars]",
         "Netflix has acquired worldwide rights to the Toronto Film Fest entry “His Three Daughters” starring Natasha Lyonne, Elizabeth Olsen and Carrie Coon. The deal was reportedly made for just under $7 million and follows the three actresses who play very different…",
         "2023-10-02T22:16:09Z",
         "Dark Horizons",
         "“Musk,” “Three Daughters” Get Acquired",
         "https://www.darkhorizons.com/musk-three-daughters-get-acquired/",
         "https://cdndh.darkhorizons.com/wp-content/uploads/2023/10/musk-three-daughters-get-acquired.jpg"
        ],
        [
         "Admin",
         "A California federal judge has ruled that a group of people who own cars made by Tesla Inc TSLA.O must pursue claims that the company misled the public about its autopilot features in individual arbi… [+2174 chars]",
         "A California federal judge has ruled that a group of people who own cars made by Tesla Inc TSLA.O must pursue claims that the company misled the public about its autopilot features in individual arbitration rather than court. The ruling …",
         "2023-10-02T22:38:32Z",
         "Insurance Journal",
         "California Judge Rules Tesla Owners Must Arbitrate False Ad Claims Over Autopilot Feature- Ruling",
         "https://www.insurancejournal.com/news/west/2023/10/02/742697.htm",
         null
        ],
        [
         "Peter Johnson",
         "With Honda’s EV offensive finally starting, the Japanese automaker is already giving us a preview of what could be its next-gen electric SUV and sedan concepts in its latest video.\r\nAfter releasing n… [+3197 chars]",
         "With Honda’s EV offensive finally starting, the Japanese automaker is already giving us a preview of what could be its next-gen electric SUV and sedan concepts in its latest video.\n more…\nThe post Honda reveals new electric SUV and sedan concepts in latest vi…",
         "2023-10-02T22:00:58Z",
         "Electrek",
         "Honda reveals new electric SUV and sedan concepts in latest video",
         "https://electrek.co/2023/10/02/honda-reveals-new-electric-suv-sedan-concepts-video/",
         "https://i0.wp.com/electrek.co/wp-content/uploads/sites/3/2023/10/Honda-new-electric-SUV-concept.jpeg?resize=1200%2C628&quality=82&strip=all&ssl=1"
        ],
        [
         "newsfeedback@fool.com (Brian Boyle from The Daily Upside)",
         "Want to buy a brand new Rivian EV for way under cost?\r\nOn Monday, the company announced an expectations-beating jump in deliveries for its third quarter. But for each sale of its $80,000 truck, Rivia… [+2475 chars]",
         "Want to buy a brand new Rivian EV for way under cost? On Monday, the company announced an expectations-beating jump in deliveries for its third...",
         "2023-10-02T22:00:10Z",
         "Thedailyupside.com",
         "Rivian Finally Sees Sales Increase, But Not Nearly Fast Enough",
         "https://www.thedailyupside.com/industries/electric-vehicles/rivian-finally-sees-sales-increase-but-not-nearly-fast-enough/",
         "https://www.thedailyupside.com/wp-content/uploads/2023/10/1_rivian-truck_10-03-23_unsplash-Wes-Hicks-1200x800.png"
        ],
        [
         "thedailyupside.com",
         "Want to buy a brand new Rivian EV for way under cost?On Monday, the company announced an expectations-beating jump in deliveries for its third quarter. But for each sale of its $80,000 truck, Rivian … [+288 chars]",
         "Want to buy a brand new Rivian EV for way under cost? On Monday, the company announced an expectations-beating jump in deliveries for its third quarter. But for each sale of its $80,000 truck, Rivian is still losing $33,000, according to a Wall Street Journal…",
         "2023-10-02T22:00:06Z",
         "Biztoc.com",
         "Rivian Finally Sees Sales Increase, But Not Nearly Fast Enough",
         "https://biztoc.com/x/b53c325adcbc1467",
         "https://c.biztoc.com/p/b53c325adcbc1467/s.webp"
        ]
       ],
       "datasetInfos": [],
       "dbfsResultPath": null,
       "isJsonSchema": true,
       "metadata": {},
       "overflow": false,
       "plotOptions": {
        "customPlotOptions": {},
        "displayType": "table",
        "pivotAggregation": null,
        "pivotColumns": null,
        "xColumns": null,
        "yColumns": null
       },
       "removedWidgets": [],
       "schema": [
        {
         "metadata": "{}",
         "name": "author",
         "type": "\"string\""
        },
        {
         "metadata": "{}",
         "name": "content",
         "type": "\"string\""
        },
        {
         "metadata": "{}",
         "name": "description",
         "type": "\"string\""
        },
        {
         "metadata": "{}",
         "name": "publishedAt",
         "type": "\"string\""
        },
        {
         "metadata": "{}",
         "name": "source",
         "type": "\"string\""
        },
        {
         "metadata": "{}",
         "name": "title",
         "type": "\"string\""
        },
        {
         "metadata": "{}",
         "name": "url",
         "type": "\"string\""
        },
        {
         "metadata": "{}",
         "name": "urlToImage",
         "type": "\"string\""
        }
       ],
       "type": "table"
      }
     },
     "output_type": "display_data"
    }
   ],
   "source": [
    "if spark.catalog.tableExists('table_articles'):\n",
    "            spark.sql('REFRESH TABLE table_articles')\n",
    "table = spark.read.format('parquet').load('/FileStore/tables/table_articles')\n",
    "table.createOrReplaceTempView('temp_table_view')\n",
    "result = spark.sql(\n",
    "                  'SELECT * '\n",
    "                  'FROM temp_table_view')\n",
    "\n",
    "result.display()"
   ]
  },
  {
   "cell_type": "code",
   "execution_count": 0,
   "metadata": {
    "application/vnd.databricks.v1+cell": {
     "cellMetadata": {
      "byteLimit": 2048000,
      "rowLimit": 10000
     },
     "inputWidgets": {},
     "nuid": "ea1f9856-738c-431d-ab5b-f62d0b01a333",
     "showTitle": false,
     "title": ""
    }
   },
   "outputs": [
    {
     "output_type": "display_data",
     "data": {
      "text/html": [
       "<style scoped>\n",
       "  .table-result-container {\n",
       "    max-height: 300px;\n",
       "    overflow: auto;\n",
       "  }\n",
       "  table, th, td {\n",
       "    border: 1px solid black;\n",
       "    border-collapse: collapse;\n",
       "  }\n",
       "  th, td {\n",
       "    padding: 5px;\n",
       "  }\n",
       "  th {\n",
       "    text-align: left;\n",
       "  }\n",
       "</style><div class='table-result-container'><table class='table-result'><thead style='background-color: white'><tr><th>info</th><th>articles_published</th></tr></thead><tbody><tr><td>author: Activist Post</td><td>1</td></tr><tr><td>author: Admin</td><td>1</td></tr><tr><td>author: Fred Lambert</td><td>1</td></tr><tr><td>author: Garth Franklin</td><td>1</td></tr><tr><td>author: Julie Coleman</td><td>1</td></tr><tr><td>author: Peter Johnson</td><td>1</td></tr><tr><td>author: n-tv NACHRICHTEN</td><td>1</td></tr><tr><td>author: newsfeedback@fool.com (Brian Boyle from The Daily Upside)</td><td>1</td></tr><tr><td>author: techcrunch.com</td><td>1</td></tr><tr><td>author: thedailyupside.com</td><td>1</td></tr><tr><td>day_published: 2/Oct/2023</td><td>10</td></tr><tr><td>month_published: Oct</td><td>10</td></tr><tr><td>source: Activistpost.com</td><td>1</td></tr><tr><td>source: Biztoc.com</td><td>2</td></tr><tr><td>source: CNBC</td><td>1</td></tr><tr><td>source: Dark Horizons</td><td>1</td></tr><tr><td>source: Electrek</td><td>2</td></tr><tr><td>source: Insurance Journal</td><td>1</td></tr><tr><td>source: N-tv.de</td><td>1</td></tr><tr><td>source: Thedailyupside.com</td><td>1</td></tr><tr><td>year_published: 2023</td><td>10</td></tr></tbody></table></div>"
      ]
     },
     "metadata": {
      "application/vnd.databricks.v1+output": {
       "addedWidgets": {},
       "aggData": [],
       "aggError": "",
       "aggOverflow": false,
       "aggSchema": [],
       "aggSeriesLimitReached": false,
       "aggType": "",
       "arguments": {},
       "columnCustomDisplayInfos": {},
       "data": [
        [
         "author: Activist Post",
         1
        ],
        [
         "author: Admin",
         1
        ],
        [
         "author: Fred Lambert",
         1
        ],
        [
         "author: Garth Franklin",
         1
        ],
        [
         "author: Julie Coleman",
         1
        ],
        [
         "author: Peter Johnson",
         1
        ],
        [
         "author: n-tv NACHRICHTEN",
         1
        ],
        [
         "author: newsfeedback@fool.com (Brian Boyle from The Daily Upside)",
         1
        ],
        [
         "author: techcrunch.com",
         1
        ],
        [
         "author: thedailyupside.com",
         1
        ],
        [
         "day_published: 2/Oct/2023",
         10
        ],
        [
         "month_published: Oct",
         10
        ],
        [
         "source: Activistpost.com",
         1
        ],
        [
         "source: Biztoc.com",
         2
        ],
        [
         "source: CNBC",
         1
        ],
        [
         "source: Dark Horizons",
         1
        ],
        [
         "source: Electrek",
         2
        ],
        [
         "source: Insurance Journal",
         1
        ],
        [
         "source: N-tv.de",
         1
        ],
        [
         "source: Thedailyupside.com",
         1
        ],
        [
         "year_published: 2023",
         10
        ]
       ],
       "datasetInfos": [],
       "dbfsResultPath": null,
       "isJsonSchema": true,
       "metadata": {},
       "overflow": false,
       "plotOptions": {
        "customPlotOptions": {},
        "displayType": "table",
        "pivotAggregation": null,
        "pivotColumns": null,
        "xColumns": null,
        "yColumns": null
       },
       "removedWidgets": [],
       "schema": [
        {
         "metadata": "{}",
         "name": "info",
         "type": "\"string\""
        },
        {
         "metadata": "{}",
         "name": "articles_published",
         "type": "\"long\""
        }
       ],
       "type": "table"
      }
     },
     "output_type": "display_data"
    }
   ],
   "source": [
    "# returns the amount of articles published by year, month, day, author and source\n",
    "\n",
    "table = spark.read.format('parquet').load('/FileStore/tables/table_articles')\n",
    "table.createOrReplaceTempView('temp_table_view')\n",
    "spark.sql('REFRESH TABLE temp_table_view')\n",
    "\n",
    "result = spark.sql(\n",
    "\"SELECT CONCAT('year_published: ', YEAR(publishedAt)) AS info, COUNT(*) AS articles_published \"\n",
    "\"FROM temp_table_view \"\n",
    "\"GROUP BY YEAR(publishedAt) \"\n",
    "\"UNION ALL \"\n",
    "\"SELECT CONCAT('month_published: ', \"\n",
    "\"               CASE \"\n",
    "\"                   WHEN MONTH(publishedAt) = 1 THEN 'Jan' \"\n",
    "\"                   WHEN MONTH(publishedAt) = 2 THEN 'Feb' \"\n",
    "\"                   WHEN MONTH(publishedAt) = 3 THEN 'Mar' \"\n",
    "\"                   WHEN MONTH(publishedAt) = 4 THEN 'Apr' \"\n",
    "\"                   WHEN MONTH(publishedAt) = 5 THEN 'May' \"\n",
    "\"                   WHEN MONTH(publishedAt) = 6 THEN 'Jun' \"\n",
    "\"                   WHEN MONTH(publishedAt) = 7 THEN 'Jul' \"\n",
    "\"                   WHEN MONTH(publishedAt) = 8 THEN 'Aug' \"\n",
    "\"                   WHEN MONTH(publishedAt) = 9 THEN 'Sep' \"\n",
    "\"                   WHEN MONTH(publishedAt) = 10 THEN 'Oct' \"\n",
    "\"                   WHEN MONTH(publishedAt) = 11 THEN 'Nov' \"\n",
    "\"                   WHEN MONTH(publishedAt) = 12 THEN 'Dec' \"\n",
    "\"               END) AS info, \"\n",
    "\"       COUNT(*) AS articles_published \"\n",
    "\"FROM temp_table_view \"\n",
    "\"GROUP BY YEAR(publishedAt), MONTH(publishedAt) \"\n",
    "\"UNION ALL \"\n",
    "\"SELECT CONCAT('day_published: ', DAY(publishedAt), '/', \"\n",
    "\"               CASE \"\n",
    "\"                   WHEN MONTH(publishedAt) = 1 THEN 'Jan' \"\n",
    "\"                   WHEN MONTH(publishedAt) = 2 THEN 'Feb' \"\n",
    "\"                   WHEN MONTH(publishedAt) = 3 THEN 'Mar' \"\n",
    "\"                   WHEN MONTH(publishedAt) = 4 THEN 'Apr' \"\n",
    "\"                   WHEN MONTH(publishedAt) = 5 THEN 'May' \"\n",
    "\"                   WHEN MONTH(publishedAt) = 6 THEN 'Jun' \"\n",
    "\"                   WHEN MONTH(publishedAt) = 7 THEN 'Jul' \"\n",
    "\"                   WHEN MONTH(publishedAt) = 8 THEN 'Aug' \"\n",
    "\"                   WHEN MONTH(publishedAt) = 9 THEN 'Sep' \"\n",
    "\"                   WHEN MONTH(publishedAt) = 10 THEN 'Oct' \"\n",
    "\"                   WHEN MONTH(publishedAt) = 11 THEN 'Nov' \"\n",
    "\"                   WHEN MONTH(publishedAt) = 12 THEN 'Dec' \"\n",
    "\"               END, '/', YEAR(publishedAt)) AS info, COUNT(*) AS articles_published \"\n",
    "\"FROM temp_table_view \"\n",
    "\"GROUP BY YEAR(publishedAt), MONTH(publishedAt), DAY(publishedAt) \"\n",
    "\"UNION ALL \"\n",
    "\"SELECT CASE \"\n",
    "\"           WHEN author IS NULL THEN CONCAT('author: ', source) \"\n",
    "\"           ELSE CONCAT('author: ', author) \"\n",
    "\"       END AS info, \"\n",
    "\"       COUNT(*) AS articles_published \"\n",
    "\"FROM temp_table_view \"\n",
    "\"GROUP BY info \"\n",
    "\"UNION ALL \"\n",
    "\"SELECT CONCAT('source: ', source) AS info, COUNT(*) AS articles_published \"\n",
    "\"FROM temp_table_view \"\n",
    "\"GROUP BY source \"\n",
    "\"ORDER BY info\"\n",
    ")\n",
    "result.write.mode('overwrite').format('parquet').option(\n",
    "    'path', '/FileStore/tables/report_articles_published').saveAsTable('report_articles_published')\n",
    "result.display()"
   ]
  },
  {
   "cell_type": "code",
   "execution_count": 0,
   "metadata": {
    "application/vnd.databricks.v1+cell": {
     "cellMetadata": {
      "byteLimit": 2048000,
      "rowLimit": 10000
     },
     "inputWidgets": {},
     "nuid": "bcec6354-9436-46ff-ba9c-d663f667455e",
     "showTitle": false,
     "title": ""
    }
   },
   "outputs": [
    {
     "output_type": "display_data",
     "data": {
      "text/html": [
       "<style scoped>\n",
       "  .table-result-container {\n",
       "    max-height: 300px;\n",
       "    overflow: auto;\n",
       "  }\n",
       "  table, th, td {\n",
       "    border: 1px solid black;\n",
       "    border-collapse: collapse;\n",
       "  }\n",
       "  th, td {\n",
       "    padding: 5px;\n",
       "  }\n",
       "  th {\n",
       "    text-align: left;\n",
       "  }\n",
       "</style><div class='table-result-container'><table class='table-result'><thead style='background-color: white'><tr><th>info</th><th>key_word_RESEARCH</th><th>key_word_MEDICINAL</th><th>key_word_CANNABIS</th></tr></thead><tbody><tr><td>day_published: 2/Oct/2023</td><td>0</td><td>0</td><td>0</td></tr><tr><td>month_published: Oct/2023</td><td>0</td><td>0</td><td>0</td></tr><tr><td>year_published: 2023</td><td>0</td><td>0</td><td>0</td></tr></tbody></table></div>"
      ]
     },
     "metadata": {
      "application/vnd.databricks.v1+output": {
       "addedWidgets": {},
       "aggData": [],
       "aggError": "",
       "aggOverflow": false,
       "aggSchema": [],
       "aggSeriesLimitReached": false,
       "aggType": "",
       "arguments": {},
       "columnCustomDisplayInfos": {},
       "data": [
        [
         "day_published: 2/Oct/2023",
         0,
         0,
         0
        ],
        [
         "month_published: Oct/2023",
         0,
         0,
         0
        ],
        [
         "year_published: 2023",
         0,
         0,
         0
        ]
       ],
       "datasetInfos": [],
       "dbfsResultPath": null,
       "isJsonSchema": true,
       "metadata": {},
       "overflow": false,
       "plotOptions": {
        "customPlotOptions": {},
        "displayType": "table",
        "pivotAggregation": null,
        "pivotColumns": null,
        "xColumns": null,
        "yColumns": null
       },
       "removedWidgets": [],
       "schema": [
        {
         "metadata": "{}",
         "name": "info",
         "type": "\"string\""
        },
        {
         "metadata": "{}",
         "name": "key_word_RESEARCH",
         "type": "\"long\""
        },
        {
         "metadata": "{}",
         "name": "key_word_MEDICINAL",
         "type": "\"long\""
        },
        {
         "metadata": "{}",
         "name": "key_word_CANNABIS",
         "type": "\"long\""
        }
       ],
       "type": "table"
      }
     },
     "output_type": "display_data"
    }
   ],
   "source": [
    "# returns how many times each key word appears in “content”, “description” and “title” by year, month and day\n",
    "\n",
    "table = spark.read.format('parquet').load('/FileStore/tables/table_articles')\n",
    "table.createOrReplaceTempView('temp_table_view')\n",
    "spark.sql('REFRESH TABLE temp_table_view')\n",
    "\n",
    "result = spark.sql(\n",
    "\"SELECT \"\n",
    "\"    CONCAT('year_published: ', YEAR(publishedAt)) AS info, \"\n",
    "\"    SUM(REGEXP_COUNT(content, 'research')) AS key_word_RESEARCH, \"\n",
    "\"    SUM(REGEXP_COUNT(description, 'medicinal')) AS key_word_MEDICINAL, \"\n",
    "\"    SUM(REGEXP_COUNT(title, 'cannabis')) AS key_word_CANNABIS \"\n",
    "\"FROM temp_table_view \"\n",
    "\"GROUP BY YEAR(publishedAt) \"\n",
    "\"UNION ALL \"\n",
    "\"SELECT \"\n",
    "\"    CONCAT('month_published: ', \"\n",
    "\"        CASE \"\n",
    "\"            WHEN MONTH(publishedAt) = 1 THEN 'Jan' \"\n",
    "\"            WHEN MONTH(publishedAt) = 2 THEN 'Feb' \"\n",
    "\"            WHEN MONTH(publishedAt) = 3 THEN 'Mar' \"\n",
    "\"            WHEN MONTH(publishedAt) = 4 THEN 'Apr' \"\n",
    "\"            WHEN MONTH(publishedAt) = 5 THEN 'May' \"\n",
    "\"            WHEN MONTH(publishedAt) = 6 THEN 'Jun' \"\n",
    "\"            WHEN MONTH(publishedAt) = 7 THEN 'Jul' \"\n",
    "\"            WHEN MONTH(publishedAt) = 8 THEN 'Aug' \"\n",
    "\"            WHEN MONTH(publishedAt) = 9 THEN 'Sep' \"\n",
    "\"            WHEN MONTH(publishedAt) = 10 THEN 'Oct' \"\n",
    "\"            WHEN MONTH(publishedAt) = 11 THEN 'Nov' \"\n",
    "\"            WHEN MONTH(publishedAt) = 12 THEN 'Dec' \"\n",
    "\"        END, '/', YEAR(publishedAt)) AS info, \"\n",
    "\"    SUM(REGEXP_COUNT(content, 'research')) AS key_word_RESEARCH, \"\n",
    "\"    SUM(REGEXP_COUNT(description, 'medicinal')) AS key_word_MEDICINAL, \"\n",
    "\"    SUM(REGEXP_COUNT(title, 'cannabis')) AS key_word_CANNABIS \"\n",
    "\"FROM temp_table_view \"\n",
    "\"GROUP BY YEAR(publishedAt), MONTH(publishedAt) \"\n",
    "\"UNION ALL \"\n",
    "\"SELECT \"\n",
    "\"    CONCAT('day_published: ', DAY(publishedAt), '/', \"\n",
    "\"        CASE \"\n",
    "\"            WHEN MONTH(publishedAt) = 1 THEN 'Jan' \"\n",
    "\"            WHEN MONTH(publishedAt) = 2 THEN 'Feb' \"\n",
    "\"            WHEN MONTH(publishedAt) = 3 THEN 'Mar' \"\n",
    "\"            WHEN MONTH(publishedAt) = 4 THEN 'Apr' \"\n",
    "\"            WHEN MONTH(publishedAt) = 5 THEN 'May' \"\n",
    "\"            WHEN MONTH(publishedAt) = 6 THEN 'Jun' \"\n",
    "\"            WHEN MONTH(publishedAt) = 7 THEN 'Jul' \"\n",
    "\"            WHEN MONTH(publishedAt) = 8 THEN 'Aug' \"\n",
    "\"            WHEN MONTH(publishedAt) = 9 THEN 'Sep' \"\n",
    "\"            WHEN MONTH(publishedAt) = 10 THEN 'Oct' \"\n",
    "\"            WHEN MONTH(publishedAt) = 11 THEN 'Nov' \"\n",
    "\"            WHEN MONTH(publishedAt) = 12 THEN 'Dec' \"\n",
    "\"        END, '/', YEAR(publishedAt)) AS info, \"\n",
    "\"    SUM(REGEXP_COUNT(content, 'research')) AS key_word_RESEARCH, \"\n",
    "\"    SUM(REGEXP_COUNT(description, 'medicinal')) AS key_word_MEDICINAL, \"\n",
    "\"    SUM(REGEXP_COUNT(title, 'cannabis')) AS key_word_CANNABIS \"\n",
    "\"FROM temp_table_view \"\n",
    "\"GROUP BY YEAR(publishedAt), MONTH(publishedAt), DAY(publishedAt) \"\n",
    "\"ORDER BY info \"\n",
    ")\n",
    "result.write.mode('overwrite').format('parquet').option(\n",
    "    'path', '/FileStore/tables/report_key_words').saveAsTable('report_key_words')\n",
    "result.display()"
   ]
  },
  {
   "cell_type": "markdown",
   "metadata": {
    "application/vnd.databricks.v1+cell": {
     "cellMetadata": {},
     "inputWidgets": {},
     "nuid": "85304e7f-4c4e-4d7d-870f-4c5068d2723c",
     "showTitle": false,
     "title": ""
    }
   },
   "source": [
    "#### Consultas gerais (SQL)"
   ]
  },
  {
   "cell_type": "code",
   "execution_count": 0,
   "metadata": {
    "application/vnd.databricks.v1+cell": {
     "cellMetadata": {
      "byteLimit": 2048000,
      "implicitDf": true,
      "rowLimit": 10000
     },
     "inputWidgets": {},
     "nuid": "e377c910-826b-4ff9-9a1a-76a716ee57ed",
     "showTitle": false,
     "title": ""
    }
   },
   "outputs": [
    {
     "output_type": "display_data",
     "data": {
      "text/plain": [
       "\u001B[0;31m---------------------------------------------------------------------------\u001B[0m\n",
       "\u001B[0;31mParseException\u001B[0m                            Traceback (most recent call last)\n",
       "File \u001B[0;32m<command-3537292968966972>:9\u001B[0m\n",
       "\u001B[1;32m      7\u001B[0m     return df\n",
       "\u001B[1;32m      8\u001B[0m   _sqldf = ____databricks_percent_sql()\n",
       "\u001B[0;32m----> 9\u001B[0m finally:\n",
       "\u001B[1;32m     10\u001B[0m   del ____databricks_percent_sql\n",
       "\n",
       "File \u001B[0;32m<command-3537292968966972>:6\u001B[0m, in \u001B[0;36m____databricks_percent_sql\u001B[0;34m()\u001B[0m\n",
       "\u001B[1;32m      4\u001B[0m spark\u001B[38;5;241m.\u001B[39msql(base64\u001B[38;5;241m.\u001B[39mstandard_b64decode(\u001B[38;5;124m\"\u001B[39m\u001B[38;5;124mUkVGUkVTSCBUQUJMRSB0YWJsZV9hcnRpY2xlcw==\u001B[39m\u001B[38;5;124m\"\u001B[39m)\u001B[38;5;241m.\u001B[39mdecode())\n",
       "\u001B[1;32m      5\u001B[0m spark\u001B[38;5;241m.\u001B[39msql(base64\u001B[38;5;241m.\u001B[39mstandard_b64decode(\u001B[38;5;124m\"\u001B[39m\u001B[38;5;124mU0VMRUNUICoKRlJPTSB0YWJsZV9hcnRpY2xlcw==\u001B[39m\u001B[38;5;124m\"\u001B[39m)\u001B[38;5;241m.\u001B[39mdecode())\n",
       "\u001B[0;32m----> 6\u001B[0m df \u001B[38;5;241m=\u001B[39m \u001B[43mspark\u001B[49m\u001B[38;5;241;43m.\u001B[39;49m\u001B[43msql\u001B[49m\u001B[43m(\u001B[49m\u001B[43mbase64\u001B[49m\u001B[38;5;241;43m.\u001B[39;49m\u001B[43mstandard_b64decode\u001B[49m\u001B[43m(\u001B[49m\u001B[38;5;124;43m\"\u001B[39;49m\u001B[38;5;124;43mJW1kCmFzZGFzZA==\u001B[39;49m\u001B[38;5;124;43m\"\u001B[39;49m\u001B[43m)\u001B[49m\u001B[38;5;241;43m.\u001B[39;49m\u001B[43mdecode\u001B[49m\u001B[43m(\u001B[49m\u001B[43m)\u001B[49m\u001B[43m)\u001B[49m\n",
       "\u001B[1;32m      7\u001B[0m display(df)\n",
       "\u001B[1;32m      8\u001B[0m \u001B[38;5;28;01mreturn\u001B[39;00m df\n",
       "\n",
       "File \u001B[0;32m/databricks/spark/python/pyspark/instrumentation_utils.py:48\u001B[0m, in \u001B[0;36m_wrap_function.<locals>.wrapper\u001B[0;34m(*args, **kwargs)\u001B[0m\n",
       "\u001B[1;32m     46\u001B[0m start \u001B[38;5;241m=\u001B[39m time\u001B[38;5;241m.\u001B[39mperf_counter()\n",
       "\u001B[1;32m     47\u001B[0m \u001B[38;5;28;01mtry\u001B[39;00m:\n",
       "\u001B[0;32m---> 48\u001B[0m     res \u001B[38;5;241m=\u001B[39m \u001B[43mfunc\u001B[49m\u001B[43m(\u001B[49m\u001B[38;5;241;43m*\u001B[39;49m\u001B[43margs\u001B[49m\u001B[43m,\u001B[49m\u001B[43m \u001B[49m\u001B[38;5;241;43m*\u001B[39;49m\u001B[38;5;241;43m*\u001B[39;49m\u001B[43mkwargs\u001B[49m\u001B[43m)\u001B[49m\n",
       "\u001B[1;32m     49\u001B[0m     logger\u001B[38;5;241m.\u001B[39mlog_success(\n",
       "\u001B[1;32m     50\u001B[0m         module_name, class_name, function_name, time\u001B[38;5;241m.\u001B[39mperf_counter() \u001B[38;5;241m-\u001B[39m start, signature\n",
       "\u001B[1;32m     51\u001B[0m     )\n",
       "\u001B[1;32m     52\u001B[0m     \u001B[38;5;28;01mreturn\u001B[39;00m res\n",
       "\n",
       "File \u001B[0;32m/databricks/spark/python/pyspark/sql/session.py:1387\u001B[0m, in \u001B[0;36mSparkSession.sql\u001B[0;34m(self, sqlQuery, args, **kwargs)\u001B[0m\n",
       "\u001B[1;32m   1385\u001B[0m \u001B[38;5;28;01mtry\u001B[39;00m:\n",
       "\u001B[1;32m   1386\u001B[0m     litArgs \u001B[38;5;241m=\u001B[39m {k: _to_java_column(lit(v)) \u001B[38;5;28;01mfor\u001B[39;00m k, v \u001B[38;5;129;01min\u001B[39;00m (args \u001B[38;5;129;01mor\u001B[39;00m {})\u001B[38;5;241m.\u001B[39mitems()}\n",
       "\u001B[0;32m-> 1387\u001B[0m     \u001B[38;5;28;01mreturn\u001B[39;00m DataFrame(\u001B[38;5;28;43mself\u001B[39;49m\u001B[38;5;241;43m.\u001B[39;49m\u001B[43m_jsparkSession\u001B[49m\u001B[38;5;241;43m.\u001B[39;49m\u001B[43msql\u001B[49m\u001B[43m(\u001B[49m\u001B[43msqlQuery\u001B[49m\u001B[43m,\u001B[49m\u001B[43m \u001B[49m\u001B[43mlitArgs\u001B[49m\u001B[43m)\u001B[49m, \u001B[38;5;28mself\u001B[39m)\n",
       "\u001B[1;32m   1388\u001B[0m \u001B[38;5;28;01mfinally\u001B[39;00m:\n",
       "\u001B[1;32m   1389\u001B[0m     \u001B[38;5;28;01mif\u001B[39;00m \u001B[38;5;28mlen\u001B[39m(kwargs) \u001B[38;5;241m>\u001B[39m \u001B[38;5;241m0\u001B[39m:\n",
       "\n",
       "File \u001B[0;32m/databricks/spark/python/lib/py4j-0.10.9.5-src.zip/py4j/java_gateway.py:1321\u001B[0m, in \u001B[0;36mJavaMember.__call__\u001B[0;34m(self, *args)\u001B[0m\n",
       "\u001B[1;32m   1315\u001B[0m command \u001B[38;5;241m=\u001B[39m proto\u001B[38;5;241m.\u001B[39mCALL_COMMAND_NAME \u001B[38;5;241m+\u001B[39m\\\n",
       "\u001B[1;32m   1316\u001B[0m     \u001B[38;5;28mself\u001B[39m\u001B[38;5;241m.\u001B[39mcommand_header \u001B[38;5;241m+\u001B[39m\\\n",
       "\u001B[1;32m   1317\u001B[0m     args_command \u001B[38;5;241m+\u001B[39m\\\n",
       "\u001B[1;32m   1318\u001B[0m     proto\u001B[38;5;241m.\u001B[39mEND_COMMAND_PART\n",
       "\u001B[1;32m   1320\u001B[0m answer \u001B[38;5;241m=\u001B[39m \u001B[38;5;28mself\u001B[39m\u001B[38;5;241m.\u001B[39mgateway_client\u001B[38;5;241m.\u001B[39msend_command(command)\n",
       "\u001B[0;32m-> 1321\u001B[0m return_value \u001B[38;5;241m=\u001B[39m \u001B[43mget_return_value\u001B[49m\u001B[43m(\u001B[49m\n",
       "\u001B[1;32m   1322\u001B[0m \u001B[43m    \u001B[49m\u001B[43manswer\u001B[49m\u001B[43m,\u001B[49m\u001B[43m \u001B[49m\u001B[38;5;28;43mself\u001B[39;49m\u001B[38;5;241;43m.\u001B[39;49m\u001B[43mgateway_client\u001B[49m\u001B[43m,\u001B[49m\u001B[43m \u001B[49m\u001B[38;5;28;43mself\u001B[39;49m\u001B[38;5;241;43m.\u001B[39;49m\u001B[43mtarget_id\u001B[49m\u001B[43m,\u001B[49m\u001B[43m \u001B[49m\u001B[38;5;28;43mself\u001B[39;49m\u001B[38;5;241;43m.\u001B[39;49m\u001B[43mname\u001B[49m\u001B[43m)\u001B[49m\n",
       "\u001B[1;32m   1324\u001B[0m \u001B[38;5;28;01mfor\u001B[39;00m temp_arg \u001B[38;5;129;01min\u001B[39;00m temp_args:\n",
       "\u001B[1;32m   1325\u001B[0m     temp_arg\u001B[38;5;241m.\u001B[39m_detach()\n",
       "\n",
       "File \u001B[0;32m/databricks/spark/python/pyspark/errors/exceptions.py:234\u001B[0m, in \u001B[0;36mcapture_sql_exception.<locals>.deco\u001B[0;34m(*a, **kw)\u001B[0m\n",
       "\u001B[1;32m    230\u001B[0m converted \u001B[38;5;241m=\u001B[39m convert_exception(e\u001B[38;5;241m.\u001B[39mjava_exception)\n",
       "\u001B[1;32m    231\u001B[0m \u001B[38;5;28;01mif\u001B[39;00m \u001B[38;5;129;01mnot\u001B[39;00m \u001B[38;5;28misinstance\u001B[39m(converted, UnknownException):\n",
       "\u001B[1;32m    232\u001B[0m     \u001B[38;5;66;03m# Hide where the exception came from that shows a non-Pythonic\u001B[39;00m\n",
       "\u001B[1;32m    233\u001B[0m     \u001B[38;5;66;03m# JVM exception message.\u001B[39;00m\n",
       "\u001B[0;32m--> 234\u001B[0m     \u001B[38;5;28;01mraise\u001B[39;00m converted \u001B[38;5;28;01mfrom\u001B[39;00m \u001B[38;5;28mNone\u001B[39m\n",
       "\u001B[1;32m    235\u001B[0m \u001B[38;5;28;01melse\u001B[39;00m:\n",
       "\u001B[1;32m    236\u001B[0m     \u001B[38;5;28;01mraise\u001B[39;00m\n",
       "\n",
       "\u001B[0;31mParseException\u001B[0m: \n",
       "[PARSE_SYNTAX_ERROR] Syntax error at or near '%'.(line 1, pos 0)\n",
       "\n",
       "== SQL ==\n",
       "%md\n",
       "^^^\n",
       "asdasd\n"
      ]
     },
     "metadata": {
      "application/vnd.databricks.v1+output": {
       "arguments": {},
       "data": "\u001B[0;31m---------------------------------------------------------------------------\u001B[0m\n\u001B[0;31mParseException\u001B[0m                            Traceback (most recent call last)\nFile \u001B[0;32m<command-3537292968966972>:9\u001B[0m\n\u001B[1;32m      7\u001B[0m     return df\n\u001B[1;32m      8\u001B[0m   _sqldf = ____databricks_percent_sql()\n\u001B[0;32m----> 9\u001B[0m finally:\n\u001B[1;32m     10\u001B[0m   del ____databricks_percent_sql\n\nFile \u001B[0;32m<command-3537292968966972>:6\u001B[0m, in \u001B[0;36m____databricks_percent_sql\u001B[0;34m()\u001B[0m\n\u001B[1;32m      4\u001B[0m spark\u001B[38;5;241m.\u001B[39msql(base64\u001B[38;5;241m.\u001B[39mstandard_b64decode(\u001B[38;5;124m\"\u001B[39m\u001B[38;5;124mUkVGUkVTSCBUQUJMRSB0YWJsZV9hcnRpY2xlcw==\u001B[39m\u001B[38;5;124m\"\u001B[39m)\u001B[38;5;241m.\u001B[39mdecode())\n\u001B[1;32m      5\u001B[0m spark\u001B[38;5;241m.\u001B[39msql(base64\u001B[38;5;241m.\u001B[39mstandard_b64decode(\u001B[38;5;124m\"\u001B[39m\u001B[38;5;124mU0VMRUNUICoKRlJPTSB0YWJsZV9hcnRpY2xlcw==\u001B[39m\u001B[38;5;124m\"\u001B[39m)\u001B[38;5;241m.\u001B[39mdecode())\n\u001B[0;32m----> 6\u001B[0m df \u001B[38;5;241m=\u001B[39m \u001B[43mspark\u001B[49m\u001B[38;5;241;43m.\u001B[39;49m\u001B[43msql\u001B[49m\u001B[43m(\u001B[49m\u001B[43mbase64\u001B[49m\u001B[38;5;241;43m.\u001B[39;49m\u001B[43mstandard_b64decode\u001B[49m\u001B[43m(\u001B[49m\u001B[38;5;124;43m\"\u001B[39;49m\u001B[38;5;124;43mJW1kCmFzZGFzZA==\u001B[39;49m\u001B[38;5;124;43m\"\u001B[39;49m\u001B[43m)\u001B[49m\u001B[38;5;241;43m.\u001B[39;49m\u001B[43mdecode\u001B[49m\u001B[43m(\u001B[49m\u001B[43m)\u001B[49m\u001B[43m)\u001B[49m\n\u001B[1;32m      7\u001B[0m display(df)\n\u001B[1;32m      8\u001B[0m \u001B[38;5;28;01mreturn\u001B[39;00m df\n\nFile \u001B[0;32m/databricks/spark/python/pyspark/instrumentation_utils.py:48\u001B[0m, in \u001B[0;36m_wrap_function.<locals>.wrapper\u001B[0;34m(*args, **kwargs)\u001B[0m\n\u001B[1;32m     46\u001B[0m start \u001B[38;5;241m=\u001B[39m time\u001B[38;5;241m.\u001B[39mperf_counter()\n\u001B[1;32m     47\u001B[0m \u001B[38;5;28;01mtry\u001B[39;00m:\n\u001B[0;32m---> 48\u001B[0m     res \u001B[38;5;241m=\u001B[39m \u001B[43mfunc\u001B[49m\u001B[43m(\u001B[49m\u001B[38;5;241;43m*\u001B[39;49m\u001B[43margs\u001B[49m\u001B[43m,\u001B[49m\u001B[43m \u001B[49m\u001B[38;5;241;43m*\u001B[39;49m\u001B[38;5;241;43m*\u001B[39;49m\u001B[43mkwargs\u001B[49m\u001B[43m)\u001B[49m\n\u001B[1;32m     49\u001B[0m     logger\u001B[38;5;241m.\u001B[39mlog_success(\n\u001B[1;32m     50\u001B[0m         module_name, class_name, function_name, time\u001B[38;5;241m.\u001B[39mperf_counter() \u001B[38;5;241m-\u001B[39m start, signature\n\u001B[1;32m     51\u001B[0m     )\n\u001B[1;32m     52\u001B[0m     \u001B[38;5;28;01mreturn\u001B[39;00m res\n\nFile \u001B[0;32m/databricks/spark/python/pyspark/sql/session.py:1387\u001B[0m, in \u001B[0;36mSparkSession.sql\u001B[0;34m(self, sqlQuery, args, **kwargs)\u001B[0m\n\u001B[1;32m   1385\u001B[0m \u001B[38;5;28;01mtry\u001B[39;00m:\n\u001B[1;32m   1386\u001B[0m     litArgs \u001B[38;5;241m=\u001B[39m {k: _to_java_column(lit(v)) \u001B[38;5;28;01mfor\u001B[39;00m k, v \u001B[38;5;129;01min\u001B[39;00m (args \u001B[38;5;129;01mor\u001B[39;00m {})\u001B[38;5;241m.\u001B[39mitems()}\n\u001B[0;32m-> 1387\u001B[0m     \u001B[38;5;28;01mreturn\u001B[39;00m DataFrame(\u001B[38;5;28;43mself\u001B[39;49m\u001B[38;5;241;43m.\u001B[39;49m\u001B[43m_jsparkSession\u001B[49m\u001B[38;5;241;43m.\u001B[39;49m\u001B[43msql\u001B[49m\u001B[43m(\u001B[49m\u001B[43msqlQuery\u001B[49m\u001B[43m,\u001B[49m\u001B[43m \u001B[49m\u001B[43mlitArgs\u001B[49m\u001B[43m)\u001B[49m, \u001B[38;5;28mself\u001B[39m)\n\u001B[1;32m   1388\u001B[0m \u001B[38;5;28;01mfinally\u001B[39;00m:\n\u001B[1;32m   1389\u001B[0m     \u001B[38;5;28;01mif\u001B[39;00m \u001B[38;5;28mlen\u001B[39m(kwargs) \u001B[38;5;241m>\u001B[39m \u001B[38;5;241m0\u001B[39m:\n\nFile \u001B[0;32m/databricks/spark/python/lib/py4j-0.10.9.5-src.zip/py4j/java_gateway.py:1321\u001B[0m, in \u001B[0;36mJavaMember.__call__\u001B[0;34m(self, *args)\u001B[0m\n\u001B[1;32m   1315\u001B[0m command \u001B[38;5;241m=\u001B[39m proto\u001B[38;5;241m.\u001B[39mCALL_COMMAND_NAME \u001B[38;5;241m+\u001B[39m\\\n\u001B[1;32m   1316\u001B[0m     \u001B[38;5;28mself\u001B[39m\u001B[38;5;241m.\u001B[39mcommand_header \u001B[38;5;241m+\u001B[39m\\\n\u001B[1;32m   1317\u001B[0m     args_command \u001B[38;5;241m+\u001B[39m\\\n\u001B[1;32m   1318\u001B[0m     proto\u001B[38;5;241m.\u001B[39mEND_COMMAND_PART\n\u001B[1;32m   1320\u001B[0m answer \u001B[38;5;241m=\u001B[39m \u001B[38;5;28mself\u001B[39m\u001B[38;5;241m.\u001B[39mgateway_client\u001B[38;5;241m.\u001B[39msend_command(command)\n\u001B[0;32m-> 1321\u001B[0m return_value \u001B[38;5;241m=\u001B[39m \u001B[43mget_return_value\u001B[49m\u001B[43m(\u001B[49m\n\u001B[1;32m   1322\u001B[0m \u001B[43m    \u001B[49m\u001B[43manswer\u001B[49m\u001B[43m,\u001B[49m\u001B[43m \u001B[49m\u001B[38;5;28;43mself\u001B[39;49m\u001B[38;5;241;43m.\u001B[39;49m\u001B[43mgateway_client\u001B[49m\u001B[43m,\u001B[49m\u001B[43m \u001B[49m\u001B[38;5;28;43mself\u001B[39;49m\u001B[38;5;241;43m.\u001B[39;49m\u001B[43mtarget_id\u001B[49m\u001B[43m,\u001B[49m\u001B[43m \u001B[49m\u001B[38;5;28;43mself\u001B[39;49m\u001B[38;5;241;43m.\u001B[39;49m\u001B[43mname\u001B[49m\u001B[43m)\u001B[49m\n\u001B[1;32m   1324\u001B[0m \u001B[38;5;28;01mfor\u001B[39;00m temp_arg \u001B[38;5;129;01min\u001B[39;00m temp_args:\n\u001B[1;32m   1325\u001B[0m     temp_arg\u001B[38;5;241m.\u001B[39m_detach()\n\nFile \u001B[0;32m/databricks/spark/python/pyspark/errors/exceptions.py:234\u001B[0m, in \u001B[0;36mcapture_sql_exception.<locals>.deco\u001B[0;34m(*a, **kw)\u001B[0m\n\u001B[1;32m    230\u001B[0m converted \u001B[38;5;241m=\u001B[39m convert_exception(e\u001B[38;5;241m.\u001B[39mjava_exception)\n\u001B[1;32m    231\u001B[0m \u001B[38;5;28;01mif\u001B[39;00m \u001B[38;5;129;01mnot\u001B[39;00m \u001B[38;5;28misinstance\u001B[39m(converted, UnknownException):\n\u001B[1;32m    232\u001B[0m     \u001B[38;5;66;03m# Hide where the exception came from that shows a non-Pythonic\u001B[39;00m\n\u001B[1;32m    233\u001B[0m     \u001B[38;5;66;03m# JVM exception message.\u001B[39;00m\n\u001B[0;32m--> 234\u001B[0m     \u001B[38;5;28;01mraise\u001B[39;00m converted \u001B[38;5;28;01mfrom\u001B[39;00m \u001B[38;5;28mNone\u001B[39m\n\u001B[1;32m    235\u001B[0m \u001B[38;5;28;01melse\u001B[39;00m:\n\u001B[1;32m    236\u001B[0m     \u001B[38;5;28;01mraise\u001B[39;00m\n\n\u001B[0;31mParseException\u001B[0m: \n[PARSE_SYNTAX_ERROR] Syntax error at or near '%'.(line 1, pos 0)\n\n== SQL ==\n%md\n^^^\nasdasd\n",
       "errorSummary": "<span class='ansi-red-fg'>ParseException</span>: \n[PARSE_SYNTAX_ERROR] Syntax error at or near '%'.(line 1, pos 0)\n\n== SQL ==\n%md\n^^^\nasdasd\n",
       "errorTraceType": "ansi",
       "metadata": {},
       "type": "ipynbError"
      }
     },
     "output_type": "display_data"
    }
   ],
   "source": [
    "%sql\n",
    "REFRESH TABLE table_articles;\n",
    "\n",
    "SELECT *\n",
    "FROM table_articles;"
   ]
  },
  {
   "cell_type": "code",
   "execution_count": 0,
   "metadata": {
    "application/vnd.databricks.v1+cell": {
     "cellMetadata": {
      "byteLimit": 2048000,
      "implicitDf": true,
      "rowLimit": 10000
     },
     "inputWidgets": {},
     "nuid": "9c024820-b1b7-4467-8f2d-473153ed4147",
     "showTitle": false,
     "title": ""
    }
   },
   "outputs": [
    {
     "output_type": "display_data",
     "data": {
      "text/html": [
       "<style scoped>\n",
       "  .table-result-container {\n",
       "    max-height: 300px;\n",
       "    overflow: auto;\n",
       "  }\n",
       "  table, th, td {\n",
       "    border: 1px solid black;\n",
       "    border-collapse: collapse;\n",
       "  }\n",
       "  th, td {\n",
       "    padding: 5px;\n",
       "  }\n",
       "  th {\n",
       "    text-align: left;\n",
       "  }\n",
       "</style><div class='table-result-container'><table class='table-result'><thead style='background-color: white'><tr><th>info</th><th>articles_published</th></tr></thead><tbody><tr><td>author: Admin</td><td>1</td></tr><tr><td>author: Bloomberg</td><td>1</td></tr><tr><td>author: Brian Gordon</td><td>1</td></tr><tr><td>author: Dow Jones</td><td>1</td></tr><tr><td>author: Fark.com</td><td>1</td></tr><tr><td>author: Garth Franklin</td><td>1</td></tr><tr><td>author: Kate Irwin</td><td>1</td></tr><tr><td>author: MarketWatch Automation</td><td>2</td></tr><tr><td>author: Peter Johnson</td><td>1</td></tr><tr><td>author: Reuters</td><td>3</td></tr><tr><td>author: VivoPower International PLC</td><td>1</td></tr><tr><td>author: [Removed]</td><td>1</td></tr><tr><td>author: arstechnica.com</td><td>1</td></tr><tr><td>author: decrypt.co</td><td>1</td></tr><tr><td>author: feedfeeder</td><td>1</td></tr><tr><td>author: n-tv NACHRICHTEN</td><td>2</td></tr><tr><td>author: newsfeedback@fool.com (Brian Boyle from The Daily Upside)</td><td>1</td></tr><tr><td>author: thedailyupside.com</td><td>1</td></tr><tr><td>day_published: 1/Jan/1970</td><td>1</td></tr><tr><td>day_published: 2/Oct/2023</td><td>21</td></tr><tr><td>month_published: Jan</td><td>1</td></tr><tr><td>month_published: Oct</td><td>21</td></tr><tr><td>source: Biztoc.com</td><td>3</td></tr><tr><td>source: Challenges</td><td>1</td></tr><tr><td>source: Dark Horizons</td><td>1</td></tr><tr><td>source: Decrypt</td><td>1</td></tr><tr><td>source: Dinheirama.com</td><td>1</td></tr><tr><td>source: Electrek</td><td>1</td></tr><tr><td>source: Fark.com</td><td>1</td></tr><tr><td>source: GlobeNewswire</td><td>1</td></tr><tr><td>source: Insurance Journal</td><td>1</td></tr><tr><td>source: MarketWatch</td><td>2</td></tr><tr><td>source: Marketscreener.com</td><td>1</td></tr><tr><td>source: N-tv.de</td><td>2</td></tr><tr><td>source: Omny.fm</td><td>1</td></tr><tr><td>source: Raleigh News & Observer</td><td>1</td></tr><tr><td>source: Slashdot.org</td><td>1</td></tr><tr><td>source: Terra.com.br</td><td>1</td></tr><tr><td>source: Thedailyupside.com</td><td>1</td></tr><tr><td>source: [Removed]</td><td>1</td></tr><tr><td>year_published: 1970</td><td>1</td></tr><tr><td>year_published: 2023</td><td>21</td></tr></tbody></table></div>"
      ]
     },
     "metadata": {
      "application/vnd.databricks.v1+output": {
       "addedWidgets": {},
       "aggData": [],
       "aggError": "",
       "aggOverflow": false,
       "aggSchema": [],
       "aggSeriesLimitReached": false,
       "aggType": "",
       "arguments": {},
       "columnCustomDisplayInfos": {},
       "data": [
        [
         "author: Admin",
         1
        ],
        [
         "author: Bloomberg",
         1
        ],
        [
         "author: Brian Gordon",
         1
        ],
        [
         "author: Dow Jones",
         1
        ],
        [
         "author: Fark.com",
         1
        ],
        [
         "author: Garth Franklin",
         1
        ],
        [
         "author: Kate Irwin",
         1
        ],
        [
         "author: MarketWatch Automation",
         2
        ],
        [
         "author: Peter Johnson",
         1
        ],
        [
         "author: Reuters",
         3
        ],
        [
         "author: VivoPower International PLC",
         1
        ],
        [
         "author: [Removed]",
         1
        ],
        [
         "author: arstechnica.com",
         1
        ],
        [
         "author: decrypt.co",
         1
        ],
        [
         "author: feedfeeder",
         1
        ],
        [
         "author: n-tv NACHRICHTEN",
         2
        ],
        [
         "author: newsfeedback@fool.com (Brian Boyle from The Daily Upside)",
         1
        ],
        [
         "author: thedailyupside.com",
         1
        ],
        [
         "day_published: 1/Jan/1970",
         1
        ],
        [
         "day_published: 2/Oct/2023",
         21
        ],
        [
         "month_published: Jan",
         1
        ],
        [
         "month_published: Oct",
         21
        ],
        [
         "source: Biztoc.com",
         3
        ],
        [
         "source: Challenges",
         1
        ],
        [
         "source: Dark Horizons",
         1
        ],
        [
         "source: Decrypt",
         1
        ],
        [
         "source: Dinheirama.com",
         1
        ],
        [
         "source: Electrek",
         1
        ],
        [
         "source: Fark.com",
         1
        ],
        [
         "source: GlobeNewswire",
         1
        ],
        [
         "source: Insurance Journal",
         1
        ],
        [
         "source: MarketWatch",
         2
        ],
        [
         "source: Marketscreener.com",
         1
        ],
        [
         "source: N-tv.de",
         2
        ],
        [
         "source: Omny.fm",
         1
        ],
        [
         "source: Raleigh News & Observer",
         1
        ],
        [
         "source: Slashdot.org",
         1
        ],
        [
         "source: Terra.com.br",
         1
        ],
        [
         "source: Thedailyupside.com",
         1
        ],
        [
         "source: [Removed]",
         1
        ],
        [
         "year_published: 1970",
         1
        ],
        [
         "year_published: 2023",
         21
        ]
       ],
       "datasetInfos": [],
       "dbfsResultPath": null,
       "isJsonSchema": true,
       "metadata": {},
       "overflow": false,
       "plotOptions": {
        "customPlotOptions": {},
        "displayType": "table",
        "pivotAggregation": null,
        "pivotColumns": null,
        "xColumns": null,
        "yColumns": null
       },
       "removedWidgets": [],
       "schema": [
        {
         "metadata": "{}",
         "name": "info",
         "type": "\"string\""
        },
        {
         "metadata": "{}",
         "name": "articles_published",
         "type": "\"long\""
        }
       ],
       "type": "table"
      }
     },
     "output_type": "display_data"
    }
   ],
   "source": [
    "%sql\n",
    "/* returns the amount of articles published by year, month, day, author and source*/\n",
    "REFRESH TABLE table_articles;\n",
    "\n",
    "SELECT CONCAT('year_published: ', YEAR(publishedAt)) AS info, COUNT(*) AS articles_published\n",
    "FROM table_articles\n",
    "GROUP BY YEAR(publishedAt)\n",
    "UNION ALL\n",
    "SELECT CONCAT('month_published: ', \n",
    "               CASE \n",
    "                   WHEN MONTH(publishedAt) = 1 THEN 'Jan'\n",
    "                   WHEN MONTH(publishedAt) = 2 THEN 'Feb'\n",
    "                   WHEN MONTH(publishedAt) = 3 THEN 'Mar'\n",
    "                   WHEN MONTH(publishedAt) = 4 THEN 'Apr'\n",
    "                   WHEN MONTH(publishedAt) = 5 THEN 'May'\n",
    "                   WHEN MONTH(publishedAt) = 6 THEN 'Jun'\n",
    "                   WHEN MONTH(publishedAt) = 7 THEN 'Jul'\n",
    "                   WHEN MONTH(publishedAt) = 8 THEN 'Aug'\n",
    "                   WHEN MONTH(publishedAt) = 9 THEN 'Sep'\n",
    "                   WHEN MONTH(publishedAt) = 10 THEN 'Oct'\n",
    "                   WHEN MONTH(publishedAt) = 11 THEN 'Nov'\n",
    "                   WHEN MONTH(publishedAt) = 12 THEN 'Dec'\n",
    "               END) AS info,\n",
    "       COUNT(*) AS articles_published\n",
    "FROM table_articles\n",
    "GROUP BY YEAR(publishedAt), MONTH(publishedAt)\n",
    "UNION ALL\n",
    "SELECT CONCAT('day_published: ', DAY(publishedAt), '/', \n",
    "               CASE \n",
    "                   WHEN MONTH(publishedAt) = 1 THEN 'Jan'\n",
    "                   WHEN MONTH(publishedAt) = 2 THEN 'Feb'\n",
    "                   WHEN MONTH(publishedAt) = 3 THEN 'Mar'\n",
    "                   WHEN MONTH(publishedAt) = 4 THEN 'Apr'\n",
    "                   WHEN MONTH(publishedAt) = 5 THEN 'May'\n",
    "                   WHEN MONTH(publishedAt) = 6 THEN 'Jun'\n",
    "                   WHEN MONTH(publishedAt) = 7 THEN 'Jul'\n",
    "                   WHEN MONTH(publishedAt) = 8 THEN 'Aug'\n",
    "                   WHEN MONTH(publishedAt) = 9 THEN 'Sep'\n",
    "                   WHEN MONTH(publishedAt) = 10 THEN 'Oct'\n",
    "                   WHEN MONTH(publishedAt) = 11 THEN 'Nov'\n",
    "                   WHEN MONTH(publishedAt) = 12 THEN 'Dec'\n",
    "               END, '/', YEAR(publishedAt)) AS info, COUNT(*) AS articles_published\n",
    "FROM table_articles\n",
    "GROUP BY YEAR(publishedAt), MONTH(publishedAt), DAY(publishedAt)\n",
    "UNION ALL\n",
    "SELECT CASE\n",
    "           WHEN author IS NULL THEN CONCAT('author: ', source)\n",
    "           ELSE CONCAT('author: ', author)\n",
    "       END AS info, \n",
    "       COUNT(*) AS articles_published\n",
    "FROM table_articles\n",
    "GROUP BY info\n",
    "UNION ALL\n",
    "SELECT CONCAT('source: ', source) AS info, COUNT(*) AS articles_published\n",
    "FROM table_articles\n",
    "GROUP BY source\n",
    "ORDER BY info;"
   ]
  },
  {
   "cell_type": "code",
   "execution_count": 0,
   "metadata": {
    "application/vnd.databricks.v1+cell": {
     "cellMetadata": {
      "byteLimit": 2048000,
      "implicitDf": true,
      "rowLimit": 10000
     },
     "inputWidgets": {},
     "nuid": "e06e5551-e8e3-4ca0-b5de-718372b39260",
     "showTitle": false,
     "title": ""
    }
   },
   "outputs": [
    {
     "output_type": "display_data",
     "data": {
      "text/html": [
       "<style scoped>\n",
       "  .table-result-container {\n",
       "    max-height: 300px;\n",
       "    overflow: auto;\n",
       "  }\n",
       "  table, th, td {\n",
       "    border: 1px solid black;\n",
       "    border-collapse: collapse;\n",
       "  }\n",
       "  th, td {\n",
       "    padding: 5px;\n",
       "  }\n",
       "  th {\n",
       "    text-align: left;\n",
       "  }\n",
       "</style><div class='table-result-container'><table class='table-result'><thead style='background-color: white'><tr><th>info</th><th>key_word_RESEARCH</th><th>key_word_MEDICINAL</th><th>key_word_CANNABIS</th></tr></thead><tbody><tr><td>day_published: 1/Jan/1970</td><td>0</td><td>0</td><td>0</td></tr><tr><td>day_published: 2/Oct/2023</td><td>0</td><td>0</td><td>0</td></tr><tr><td>month_published: Jan/1970</td><td>0</td><td>0</td><td>0</td></tr><tr><td>month_published: Oct/2023</td><td>0</td><td>0</td><td>0</td></tr><tr><td>year_published: 1970</td><td>0</td><td>0</td><td>0</td></tr><tr><td>year_published: 2023</td><td>0</td><td>0</td><td>0</td></tr></tbody></table></div>"
      ]
     },
     "metadata": {
      "application/vnd.databricks.v1+output": {
       "addedWidgets": {},
       "aggData": [],
       "aggError": "",
       "aggOverflow": false,
       "aggSchema": [],
       "aggSeriesLimitReached": false,
       "aggType": "",
       "arguments": {},
       "columnCustomDisplayInfos": {},
       "data": [
        [
         "day_published: 1/Jan/1970",
         0,
         0,
         0
        ],
        [
         "day_published: 2/Oct/2023",
         0,
         0,
         0
        ],
        [
         "month_published: Jan/1970",
         0,
         0,
         0
        ],
        [
         "month_published: Oct/2023",
         0,
         0,
         0
        ],
        [
         "year_published: 1970",
         0,
         0,
         0
        ],
        [
         "year_published: 2023",
         0,
         0,
         0
        ]
       ],
       "datasetInfos": [],
       "dbfsResultPath": null,
       "isJsonSchema": true,
       "metadata": {},
       "overflow": false,
       "plotOptions": {
        "customPlotOptions": {},
        "displayType": "table",
        "pivotAggregation": null,
        "pivotColumns": null,
        "xColumns": null,
        "yColumns": null
       },
       "removedWidgets": [],
       "schema": [
        {
         "metadata": "{}",
         "name": "info",
         "type": "\"string\""
        },
        {
         "metadata": "{}",
         "name": "key_word_RESEARCH",
         "type": "\"long\""
        },
        {
         "metadata": "{}",
         "name": "key_word_MEDICINAL",
         "type": "\"long\""
        },
        {
         "metadata": "{}",
         "name": "key_word_CANNABIS",
         "type": "\"long\""
        }
       ],
       "type": "table"
      }
     },
     "output_type": "display_data"
    }
   ],
   "source": [
    "%sql\n",
    "/* returns how many times each key word appears in “content”, “description” and “title” by year, month and day */\n",
    "REFRESH TABLE table_articles;\n",
    "\n",
    "SELECT\n",
    "    CONCAT('year_published: ', YEAR(publishedAt)) AS info,\n",
    "    SUM(REGEXP_COUNT(content, 'research')) AS key_word_RESEARCH,   \n",
    "    SUM(REGEXP_COUNT(description, 'medicinal')) AS key_word_MEDICINAL,\n",
    "    SUM(REGEXP_COUNT(title, 'cannabis')) AS key_word_CANNABIS\n",
    "FROM table_articles\n",
    "GROUP BY YEAR(publishedAt)\n",
    "UNION ALL\n",
    "SELECT\n",
    "    CONCAT('month_published: ', \n",
    "        CASE \n",
    "            WHEN MONTH(publishedAt) = 1 THEN 'Jan'\n",
    "            WHEN MONTH(publishedAt) = 2 THEN 'Feb'\n",
    "            WHEN MONTH(publishedAt) = 3 THEN 'Mar'\n",
    "            WHEN MONTH(publishedAt) = 4 THEN 'Apr'\n",
    "            WHEN MONTH(publishedAt) = 5 THEN 'May'\n",
    "            WHEN MONTH(publishedAt) = 6 THEN 'Jun'\n",
    "            WHEN MONTH(publishedAt) = 7 THEN 'Jul'\n",
    "            WHEN MONTH(publishedAt) = 8 THEN 'Aug'\n",
    "            WHEN MONTH(publishedAt) = 9 THEN 'Sep'\n",
    "            WHEN MONTH(publishedAt) = 10 THEN 'Oct'\n",
    "            WHEN MONTH(publishedAt) = 11 THEN 'Nov'\n",
    "            WHEN MONTH(publishedAt) = 12 THEN 'Dec'\n",
    "        END, '/', YEAR(publishedAt)) AS info,\n",
    "    SUM(REGEXP_COUNT(content, 'research')) AS key_word_RESEARCH,   \n",
    "    SUM(REGEXP_COUNT(description, 'medicinal')) AS key_word_MEDICINAL,\n",
    "    SUM(REGEXP_COUNT(title, 'cannabis')) AS key_word_CANNABIS\n",
    "FROM table_articles\n",
    "GROUP BY YEAR(publishedAt), MONTH(publishedAt)\n",
    "UNION ALL\n",
    "SELECT\n",
    "    CONCAT('day_published: ', DAY(publishedAt), '/', \n",
    "        CASE \n",
    "            WHEN MONTH(publishedAt) = 1 THEN 'Jan'\n",
    "            WHEN MONTH(publishedAt) = 2 THEN 'Feb'\n",
    "            WHEN MONTH(publishedAt) = 3 THEN 'Mar'\n",
    "            WHEN MONTH(publishedAt) = 4 THEN 'Apr'\n",
    "            WHEN MONTH(publishedAt) = 5 THEN 'May'\n",
    "            WHEN MONTH(publishedAt) = 6 THEN 'Jun'\n",
    "            WHEN MONTH(publishedAt) = 7 THEN 'Jul'\n",
    "            WHEN MONTH(publishedAt) = 8 THEN 'Aug'\n",
    "            WHEN MONTH(publishedAt) = 9 THEN 'Sep'\n",
    "            WHEN MONTH(publishedAt) = 10 THEN 'Oct'\n",
    "            WHEN MONTH(publishedAt) = 11 THEN 'Nov'\n",
    "            WHEN MONTH(publishedAt) = 12 THEN 'Dec'\n",
    "        END, '/', YEAR(publishedAt)) AS info,\n",
    "    SUM(REGEXP_COUNT(content, 'research')) AS key_word_RESEARCH,   \n",
    "    SUM(REGEXP_COUNT(description, 'medicinal')) AS key_word_MEDICINAL,\n",
    "    SUM(REGEXP_COUNT(title, 'cannabis')) AS key_word_CANNABIS\n",
    "FROM table_articles\n",
    "GROUP BY YEAR(publishedAt), MONTH(publishedAt), DAY(publishedAt)\n",
    "ORDER BY info;"
   ]
  },
  {
   "cell_type": "markdown",
   "metadata": {
    "application/vnd.databricks.v1+cell": {
     "cellMetadata": {},
     "inputWidgets": {},
     "nuid": "f640fd65-ee1d-47cf-a12a-5a4856a36a71",
     "showTitle": false,
     "title": ""
    }
   },
   "source": [
    "#### Consultas individuais (SQL)"
   ]
  },
  {
   "cell_type": "code",
   "execution_count": 0,
   "metadata": {
    "application/vnd.databricks.v1+cell": {
     "cellMetadata": {
      "byteLimit": 2048000,
      "implicitDf": true,
      "rowLimit": 10000
     },
     "inputWidgets": {},
     "nuid": "57b020ae-61b3-474d-b1cb-f6f70faa0a81",
     "showTitle": false,
     "title": ""
    }
   },
   "outputs": [
    {
     "output_type": "display_data",
     "data": {
      "text/html": [
       "<style scoped>\n",
       "  .table-result-container {\n",
       "    max-height: 300px;\n",
       "    overflow: auto;\n",
       "  }\n",
       "  table, th, td {\n",
       "    border: 1px solid black;\n",
       "    border-collapse: collapse;\n",
       "  }\n",
       "  th, td {\n",
       "    padding: 5px;\n",
       "  }\n",
       "  th {\n",
       "    text-align: left;\n",
       "  }\n",
       "</style><div class='table-result-container'><table class='table-result'><thead style='background-color: white'><tr><th>info</th><th>articles_published</th></tr></thead><tbody><tr><td>year_published: 1970</td><td>1</td></tr><tr><td>year_published: 2023</td><td>12</td></tr></tbody></table></div>"
      ]
     },
     "metadata": {
      "application/vnd.databricks.v1+output": {
       "addedWidgets": {},
       "aggData": [],
       "aggError": "",
       "aggOverflow": false,
       "aggSchema": [],
       "aggSeriesLimitReached": false,
       "aggType": "",
       "arguments": {},
       "columnCustomDisplayInfos": {},
       "data": [
        [
         "year_published: 1970",
         1
        ],
        [
         "year_published: 2023",
         12
        ]
       ],
       "datasetInfos": [],
       "dbfsResultPath": null,
       "isJsonSchema": true,
       "metadata": {},
       "overflow": false,
       "plotOptions": {
        "customPlotOptions": {},
        "displayType": "table",
        "pivotAggregation": null,
        "pivotColumns": null,
        "xColumns": null,
        "yColumns": null
       },
       "removedWidgets": [],
       "schema": [
        {
         "metadata": "{}",
         "name": "info",
         "type": "\"string\""
        },
        {
         "metadata": "{}",
         "name": "articles_published",
         "type": "\"long\""
        }
       ],
       "type": "table"
      }
     },
     "output_type": "display_data"
    }
   ],
   "source": [
    "%sql\n",
    "/* returns the amount of articles per year */\n",
    "SELECT CONCAT('year_published: ', YEAR(publishedAt)) AS info, COUNT(*) AS articles_published\n",
    "FROM table_articles\n",
    "GROUP BY YEAR(publishedAt)\n",
    "ORDER BY YEAR(publishedAt);\n"
   ]
  },
  {
   "cell_type": "code",
   "execution_count": 0,
   "metadata": {
    "application/vnd.databricks.v1+cell": {
     "cellMetadata": {
      "byteLimit": 2048000,
      "implicitDf": true,
      "rowLimit": 10000
     },
     "inputWidgets": {},
     "nuid": "cb95bb10-0b0e-4295-bf77-28521605a30e",
     "showTitle": false,
     "title": ""
    }
   },
   "outputs": [
    {
     "output_type": "display_data",
     "data": {
      "text/html": [
       "<style scoped>\n",
       "  .table-result-container {\n",
       "    max-height: 300px;\n",
       "    overflow: auto;\n",
       "  }\n",
       "  table, th, td {\n",
       "    border: 1px solid black;\n",
       "    border-collapse: collapse;\n",
       "  }\n",
       "  th, td {\n",
       "    padding: 5px;\n",
       "  }\n",
       "  th {\n",
       "    text-align: left;\n",
       "  }\n",
       "</style><div class='table-result-container'><table class='table-result'><thead style='background-color: white'><tr><th>info</th><th>articles_published</th></tr></thead><tbody><tr><td>month_published: Jan/1970</td><td>1</td></tr><tr><td>month_published: Oct/2023</td><td>12</td></tr></tbody></table></div>"
      ]
     },
     "metadata": {
      "application/vnd.databricks.v1+output": {
       "addedWidgets": {},
       "aggData": [],
       "aggError": "",
       "aggOverflow": false,
       "aggSchema": [],
       "aggSeriesLimitReached": false,
       "aggType": "",
       "arguments": {},
       "columnCustomDisplayInfos": {},
       "data": [
        [
         "month_published: Jan/1970",
         1
        ],
        [
         "month_published: Oct/2023",
         12
        ]
       ],
       "datasetInfos": [],
       "dbfsResultPath": null,
       "isJsonSchema": true,
       "metadata": {},
       "overflow": false,
       "plotOptions": {
        "customPlotOptions": {},
        "displayType": "table",
        "pivotAggregation": null,
        "pivotColumns": null,
        "xColumns": null,
        "yColumns": null
       },
       "removedWidgets": [],
       "schema": [
        {
         "metadata": "{}",
         "name": "info",
         "type": "\"string\""
        },
        {
         "metadata": "{}",
         "name": "articles_published",
         "type": "\"long\""
        }
       ],
       "type": "table"
      }
     },
     "output_type": "display_data"
    }
   ],
   "source": [
    "%sql\n",
    "/* returns the amount of articles per month */\n",
    "SELECT \n",
    "    CONCAT('month_published: ', \n",
    "        CASE \n",
    "            WHEN MONTH(publishedAt) = 1 THEN 'Jan'\n",
    "            WHEN MONTH(publishedAt) = 2 THEN 'Feb'\n",
    "            WHEN MONTH(publishedAt) = 3 THEN 'Mar'\n",
    "            WHEN MONTH(publishedAt) = 4 THEN 'Apr'\n",
    "            WHEN MONTH(publishedAt) = 5 THEN 'May'\n",
    "            WHEN MONTH(publishedAt) = 6 THEN 'Jun'\n",
    "            WHEN MONTH(publishedAt) = 7 THEN 'Jul'\n",
    "            WHEN MONTH(publishedAt) = 8 THEN 'Aug'\n",
    "            WHEN MONTH(publishedAt) = 9 THEN 'Sep'\n",
    "            WHEN MONTH(publishedAt) = 10 THEN 'Oct'\n",
    "            WHEN MONTH(publishedAt) = 11 THEN 'Nov'\n",
    "            WHEN MONTH(publishedAt) = 12 THEN 'Dec'\n",
    "        END, '/', YEAR(publishedAt)) AS info,\n",
    "    COUNT(*) AS articles_published\n",
    "FROM table_articles\n",
    "GROUP BY YEAR(publishedAt), MONTH(publishedAt)\n",
    "ORDER BY YEAR(publishedAt), MONTH(publishedAt);\n"
   ]
  },
  {
   "cell_type": "code",
   "execution_count": 0,
   "metadata": {
    "application/vnd.databricks.v1+cell": {
     "cellMetadata": {
      "byteLimit": 2048000,
      "implicitDf": true,
      "rowLimit": 10000
     },
     "inputWidgets": {},
     "nuid": "1f4a66ca-e507-4293-b872-7b35bb3f7026",
     "showTitle": false,
     "title": ""
    }
   },
   "outputs": [
    {
     "output_type": "display_data",
     "data": {
      "text/html": [
       "<style scoped>\n",
       "  .table-result-container {\n",
       "    max-height: 300px;\n",
       "    overflow: auto;\n",
       "  }\n",
       "  table, th, td {\n",
       "    border: 1px solid black;\n",
       "    border-collapse: collapse;\n",
       "  }\n",
       "  th, td {\n",
       "    padding: 5px;\n",
       "  }\n",
       "  th {\n",
       "    text-align: left;\n",
       "  }\n",
       "</style><div class='table-result-container'><table class='table-result'><thead style='background-color: white'><tr><th>info</th><th>articles_published</th></tr></thead><tbody><tr><td>day_published: 1/Jan/1970</td><td>1</td></tr><tr><td>day_published: 2/Oct/2023</td><td>12</td></tr></tbody></table></div>"
      ]
     },
     "metadata": {
      "application/vnd.databricks.v1+output": {
       "addedWidgets": {},
       "aggData": [],
       "aggError": "",
       "aggOverflow": false,
       "aggSchema": [],
       "aggSeriesLimitReached": false,
       "aggType": "",
       "arguments": {},
       "columnCustomDisplayInfos": {},
       "data": [
        [
         "day_published: 1/Jan/1970",
         1
        ],
        [
         "day_published: 2/Oct/2023",
         12
        ]
       ],
       "datasetInfos": [],
       "dbfsResultPath": null,
       "isJsonSchema": true,
       "metadata": {},
       "overflow": false,
       "plotOptions": {
        "customPlotOptions": {},
        "displayType": "table",
        "pivotAggregation": null,
        "pivotColumns": null,
        "xColumns": null,
        "yColumns": null
       },
       "removedWidgets": [],
       "schema": [
        {
         "metadata": "{}",
         "name": "info",
         "type": "\"string\""
        },
        {
         "metadata": "{}",
         "name": "articles_published",
         "type": "\"long\""
        }
       ],
       "type": "table"
      }
     },
     "output_type": "display_data"
    }
   ],
   "source": [
    "%sql\n",
    "/* returns the amount of articles per day */\n",
    "SELECT CONCAT('day_published: ', DAY(publishedAt), '/', \n",
    "        CASE \n",
    "            WHEN MONTH(publishedAt) = 1 THEN 'Jan'\n",
    "            WHEN MONTH(publishedAt) = 2 THEN 'Feb'\n",
    "            WHEN MONTH(publishedAt) = 3 THEN 'Mar'\n",
    "            WHEN MONTH(publishedAt) = 4 THEN 'Apr'\n",
    "            WHEN MONTH(publishedAt) = 5 THEN 'May'\n",
    "            WHEN MONTH(publishedAt) = 6 THEN 'Jun'\n",
    "            WHEN MONTH(publishedAt) = 7 THEN 'Jul'\n",
    "            WHEN MONTH(publishedAt) = 8 THEN 'Aug'\n",
    "            WHEN MONTH(publishedAt) = 9 THEN 'Sep'\n",
    "            WHEN MONTH(publishedAt) = 10 THEN 'Oct'\n",
    "            WHEN MONTH(publishedAt) = 11 THEN 'Nov'\n",
    "            WHEN MONTH(publishedAt) = 12 THEN 'Dec'\n",
    "        END, '/', YEAR(publishedAt)) AS info, COUNT(*) AS articles_published\n",
    "FROM table_articles\n",
    "GROUP BY YEAR(publishedAt), MONTH(publishedAt), DAY(publishedAt)\n",
    "ORDER BY YEAR(publishedAt), MONTH(publishedAt), DAY(publishedAt);"
   ]
  },
  {
   "cell_type": "code",
   "execution_count": 0,
   "metadata": {
    "application/vnd.databricks.v1+cell": {
     "cellMetadata": {
      "byteLimit": 2048000,
      "implicitDf": true,
      "rowLimit": 10000
     },
     "inputWidgets": {},
     "nuid": "0f8d6734-d233-4e50-bbf3-4438aede2bb8",
     "showTitle": false,
     "title": ""
    }
   },
   "outputs": [
    {
     "output_type": "display_data",
     "data": {
      "text/html": [
       "<style scoped>\n",
       "  .table-result-container {\n",
       "    max-height: 300px;\n",
       "    overflow: auto;\n",
       "  }\n",
       "  table, th, td {\n",
       "    border: 1px solid black;\n",
       "    border-collapse: collapse;\n",
       "  }\n",
       "  th, td {\n",
       "    padding: 5px;\n",
       "  }\n",
       "  th {\n",
       "    text-align: left;\n",
       "  }\n",
       "</style><div class='table-result-container'><table class='table-result'><thead style='background-color: white'><tr><th>info</th><th>articles_published</th></tr></thead><tbody><tr><td>author: Fark.com</td><td>1</td></tr><tr><td>author: Kate Irwin</td><td>1</td></tr><tr><td>author: MarketWatch Automation</td><td>2</td></tr><tr><td>author: Reuters</td><td>3</td></tr><tr><td>author: VivoPower International PLC</td><td>1</td></tr><tr><td>author: [Removed]</td><td>1</td></tr><tr><td>author: decrypt.co</td><td>1</td></tr><tr><td>author: feedfeeder</td><td>1</td></tr><tr><td>author: n-tv NACHRICHTEN</td><td>2</td></tr></tbody></table></div>"
      ]
     },
     "metadata": {
      "application/vnd.databricks.v1+output": {
       "addedWidgets": {},
       "aggData": [],
       "aggError": "",
       "aggOverflow": false,
       "aggSchema": [],
       "aggSeriesLimitReached": false,
       "aggType": "",
       "arguments": {},
       "columnCustomDisplayInfos": {},
       "data": [
        [
         "author: Fark.com",
         1
        ],
        [
         "author: Kate Irwin",
         1
        ],
        [
         "author: MarketWatch Automation",
         2
        ],
        [
         "author: Reuters",
         3
        ],
        [
         "author: VivoPower International PLC",
         1
        ],
        [
         "author: [Removed]",
         1
        ],
        [
         "author: decrypt.co",
         1
        ],
        [
         "author: feedfeeder",
         1
        ],
        [
         "author: n-tv NACHRICHTEN",
         2
        ]
       ],
       "datasetInfos": [],
       "dbfsResultPath": null,
       "isJsonSchema": true,
       "metadata": {},
       "overflow": false,
       "plotOptions": {
        "customPlotOptions": {},
        "displayType": "table",
        "pivotAggregation": null,
        "pivotColumns": null,
        "xColumns": null,
        "yColumns": null
       },
       "removedWidgets": [],
       "schema": [
        {
         "metadata": "{}",
         "name": "info",
         "type": "\"string\""
        },
        {
         "metadata": "{}",
         "name": "articles_published",
         "type": "\"long\""
        }
       ],
       "type": "table"
      }
     },
     "output_type": "display_data"
    }
   ],
   "source": [
    "%sql\n",
    "/* returns the amount of articles per author (\"Null\" authors will be replaced by source) */\n",
    "SELECT \n",
    "  CASE \n",
    "    WHEN author IS NULL THEN CONCAT('author: ', source)\n",
    "    ELSE CONCAT('author: ', author)\n",
    "  END AS info, \n",
    "  COUNT(*) AS articles_published\n",
    "FROM table_articles\n",
    "GROUP BY info\n",
    "ORDER BY info;"
   ]
  },
  {
   "cell_type": "code",
   "execution_count": 0,
   "metadata": {
    "application/vnd.databricks.v1+cell": {
     "cellMetadata": {
      "byteLimit": 2048000,
      "implicitDf": true,
      "rowLimit": 10000
     },
     "inputWidgets": {},
     "nuid": "ce2dc161-5f82-44fe-9539-c3ebab1786a9",
     "showTitle": false,
     "title": ""
    }
   },
   "outputs": [
    {
     "output_type": "display_data",
     "data": {
      "text/html": [
       "<style scoped>\n",
       "  .table-result-container {\n",
       "    max-height: 300px;\n",
       "    overflow: auto;\n",
       "  }\n",
       "  table, th, td {\n",
       "    border: 1px solid black;\n",
       "    border-collapse: collapse;\n",
       "  }\n",
       "  th, td {\n",
       "    padding: 5px;\n",
       "  }\n",
       "  th {\n",
       "    text-align: left;\n",
       "  }\n",
       "</style><div class='table-result-container'><table class='table-result'><thead style='background-color: white'><tr><th>info</th><th>articles_published</th></tr></thead><tbody><tr><td>source: Biztoc.com</td><td>1</td></tr><tr><td>source: Challenges</td><td>1</td></tr><tr><td>source: Decrypt</td><td>1</td></tr><tr><td>source: Dinheirama.com</td><td>1</td></tr><tr><td>source: Fark.com</td><td>1</td></tr><tr><td>source: GlobeNewswire</td><td>1</td></tr><tr><td>source: MarketWatch</td><td>2</td></tr><tr><td>source: N-tv.de</td><td>2</td></tr><tr><td>source: Slashdot.org</td><td>1</td></tr><tr><td>source: Terra.com.br</td><td>1</td></tr><tr><td>source: [Removed]</td><td>1</td></tr></tbody></table></div>"
      ]
     },
     "metadata": {
      "application/vnd.databricks.v1+output": {
       "addedWidgets": {},
       "aggData": [],
       "aggError": "",
       "aggOverflow": false,
       "aggSchema": [],
       "aggSeriesLimitReached": false,
       "aggType": "",
       "arguments": {},
       "columnCustomDisplayInfos": {},
       "data": [
        [
         "source: Biztoc.com",
         1
        ],
        [
         "source: Challenges",
         1
        ],
        [
         "source: Decrypt",
         1
        ],
        [
         "source: Dinheirama.com",
         1
        ],
        [
         "source: Fark.com",
         1
        ],
        [
         "source: GlobeNewswire",
         1
        ],
        [
         "source: MarketWatch",
         2
        ],
        [
         "source: N-tv.de",
         2
        ],
        [
         "source: Slashdot.org",
         1
        ],
        [
         "source: Terra.com.br",
         1
        ],
        [
         "source: [Removed]",
         1
        ]
       ],
       "datasetInfos": [],
       "dbfsResultPath": null,
       "isJsonSchema": true,
       "metadata": {},
       "overflow": false,
       "plotOptions": {
        "customPlotOptions": {},
        "displayType": "table",
        "pivotAggregation": null,
        "pivotColumns": null,
        "xColumns": null,
        "yColumns": null
       },
       "removedWidgets": [],
       "schema": [
        {
         "metadata": "{}",
         "name": "info",
         "type": "\"string\""
        },
        {
         "metadata": "{}",
         "name": "articles_published",
         "type": "\"long\""
        }
       ],
       "type": "table"
      }
     },
     "output_type": "display_data"
    }
   ],
   "source": [
    "%sql\n",
    "/* returns the amount of articles per source */\n",
    "SELECT CONCAT('source: ', source) AS info, COUNT(*) AS articles_published\n",
    "FROM table_articles\n",
    "GROUP BY source\n",
    "ORDER BY source;"
   ]
  },
  {
   "cell_type": "code",
   "execution_count": 0,
   "metadata": {
    "application/vnd.databricks.v1+cell": {
     "cellMetadata": {
      "byteLimit": 2048000,
      "implicitDf": true,
      "rowLimit": 10000
     },
     "inputWidgets": {},
     "nuid": "d9fe67e6-c30b-4b06-87bf-a9a38e4821ea",
     "showTitle": false,
     "title": ""
    }
   },
   "outputs": [
    {
     "output_type": "display_data",
     "data": {
      "text/html": [
       "<style scoped>\n",
       "  .table-result-container {\n",
       "    max-height: 300px;\n",
       "    overflow: auto;\n",
       "  }\n",
       "  table, th, td {\n",
       "    border: 1px solid black;\n",
       "    border-collapse: collapse;\n",
       "  }\n",
       "  th, td {\n",
       "    padding: 5px;\n",
       "  }\n",
       "  th {\n",
       "    text-align: left;\n",
       "  }\n",
       "</style><div class='table-result-container'><table class='table-result'><thead style='background-color: white'><tr><th>info</th><th>key_word_RESEARCH</th><th>key_word_MEDICINAL</th><th>key_word_CANNABIS</th></tr></thead><tbody><tr><td>year_published: 1970</td><td>0</td><td>0</td><td>0</td></tr><tr><td>year_published: 2023</td><td>0</td><td>0</td><td>0</td></tr></tbody></table></div>"
      ]
     },
     "metadata": {
      "application/vnd.databricks.v1+output": {
       "addedWidgets": {},
       "aggData": [],
       "aggError": "",
       "aggOverflow": false,
       "aggSchema": [],
       "aggSeriesLimitReached": false,
       "aggType": "",
       "arguments": {},
       "columnCustomDisplayInfos": {},
       "data": [
        [
         "year_published: 1970",
         0,
         0,
         0
        ],
        [
         "year_published: 2023",
         0,
         0,
         0
        ]
       ],
       "datasetInfos": [],
       "dbfsResultPath": null,
       "isJsonSchema": true,
       "metadata": {},
       "overflow": false,
       "plotOptions": {
        "customPlotOptions": {},
        "displayType": "table",
        "pivotAggregation": null,
        "pivotColumns": null,
        "xColumns": null,
        "yColumns": null
       },
       "removedWidgets": [],
       "schema": [
        {
         "metadata": "{}",
         "name": "info",
         "type": "\"string\""
        },
        {
         "metadata": "{}",
         "name": "key_word_RESEARCH",
         "type": "\"long\""
        },
        {
         "metadata": "{}",
         "name": "key_word_MEDICINAL",
         "type": "\"long\""
        },
        {
         "metadata": "{}",
         "name": "key_word_CANNABIS",
         "type": "\"long\""
        }
       ],
       "type": "table"
      }
     },
     "output_type": "display_data"
    }
   ],
   "source": [
    "%sql\n",
    "/* returns how many times each key word appears in “content”, “description” and “title” per year */\n",
    "SELECT\n",
    "    CONCAT('year_published: ', YEAR(publishedAt)) AS info,\n",
    "    SUM(REGEXP_COUNT(content, 'research')) AS key_word_RESEARCH,   \n",
    "    SUM(REGEXP_COUNT(description, 'medicinal')) AS key_word_MEDICINAL,\n",
    "    SUM(REGEXP_COUNT(title, 'cannabis')) AS key_word_CANNABIS\n",
    "FROM table_articles\n",
    "GROUP BY YEAR(publishedAt)\n",
    "ORDER BY YEAR(publishedAt);"
   ]
  },
  {
   "cell_type": "code",
   "execution_count": 0,
   "metadata": {
    "application/vnd.databricks.v1+cell": {
     "cellMetadata": {
      "byteLimit": 2048000,
      "implicitDf": true,
      "rowLimit": 10000
     },
     "inputWidgets": {},
     "nuid": "55394f5c-3ec6-458a-97cb-ec6606a9818a",
     "showTitle": false,
     "title": ""
    }
   },
   "outputs": [
    {
     "output_type": "display_data",
     "data": {
      "text/html": [
       "<style scoped>\n",
       "  .table-result-container {\n",
       "    max-height: 300px;\n",
       "    overflow: auto;\n",
       "  }\n",
       "  table, th, td {\n",
       "    border: 1px solid black;\n",
       "    border-collapse: collapse;\n",
       "  }\n",
       "  th, td {\n",
       "    padding: 5px;\n",
       "  }\n",
       "  th {\n",
       "    text-align: left;\n",
       "  }\n",
       "</style><div class='table-result-container'><table class='table-result'><thead style='background-color: white'><tr><th>info</th><th>key_word_RESEARCH</th><th>key_word_MEDICINAL</th><th>key_word_CANNABIS</th></tr></thead><tbody><tr><td>month_published: Jan/1970</td><td>0</td><td>0</td><td>0</td></tr><tr><td>month_published: Oct/2023</td><td>0</td><td>0</td><td>0</td></tr></tbody></table></div>"
      ]
     },
     "metadata": {
      "application/vnd.databricks.v1+output": {
       "addedWidgets": {},
       "aggData": [],
       "aggError": "",
       "aggOverflow": false,
       "aggSchema": [],
       "aggSeriesLimitReached": false,
       "aggType": "",
       "arguments": {},
       "columnCustomDisplayInfos": {},
       "data": [
        [
         "month_published: Jan/1970",
         0,
         0,
         0
        ],
        [
         "month_published: Oct/2023",
         0,
         0,
         0
        ]
       ],
       "datasetInfos": [],
       "dbfsResultPath": null,
       "isJsonSchema": true,
       "metadata": {},
       "overflow": false,
       "plotOptions": {
        "customPlotOptions": {},
        "displayType": "table",
        "pivotAggregation": null,
        "pivotColumns": null,
        "xColumns": null,
        "yColumns": null
       },
       "removedWidgets": [],
       "schema": [
        {
         "metadata": "{}",
         "name": "info",
         "type": "\"string\""
        },
        {
         "metadata": "{}",
         "name": "key_word_RESEARCH",
         "type": "\"long\""
        },
        {
         "metadata": "{}",
         "name": "key_word_MEDICINAL",
         "type": "\"long\""
        },
        {
         "metadata": "{}",
         "name": "key_word_CANNABIS",
         "type": "\"long\""
        }
       ],
       "type": "table"
      }
     },
     "output_type": "display_data"
    }
   ],
   "source": [
    "%sql\n",
    "/* returns how many times each key word appears in “content”, “description” and “title” per month */\n",
    "SELECT\n",
    "    CONCAT('month_published: ', \n",
    "        CASE \n",
    "            WHEN MONTH(publishedAt) = 1 THEN 'Jan'\n",
    "            WHEN MONTH(publishedAt) = 2 THEN 'Feb'\n",
    "            WHEN MONTH(publishedAt) = 3 THEN 'Mar'\n",
    "            WHEN MONTH(publishedAt) = 4 THEN 'Apr'\n",
    "            WHEN MONTH(publishedAt) = 5 THEN 'May'\n",
    "            WHEN MONTH(publishedAt) = 6 THEN 'Jun'\n",
    "            WHEN MONTH(publishedAt) = 7 THEN 'Jul'\n",
    "            WHEN MONTH(publishedAt) = 8 THEN 'Aug'\n",
    "            WHEN MONTH(publishedAt) = 9 THEN 'Sep'\n",
    "            WHEN MONTH(publishedAt) = 10 THEN 'Oct'\n",
    "            WHEN MONTH(publishedAt) = 11 THEN 'Nov'\n",
    "            WHEN MONTH(publishedAt) = 12 THEN 'Dec'\n",
    "        END, '/', YEAR(publishedAt)) AS info,\n",
    "    SUM(REGEXP_COUNT(content, 'research')) AS key_word_RESEARCH,   \n",
    "    SUM(REGEXP_COUNT(description, 'medicinal')) AS key_word_MEDICINAL,\n",
    "    SUM(REGEXP_COUNT(title, 'cannabis')) AS key_word_CANNABIS\n",
    "FROM table_articles\n",
    "GROUP BY YEAR(publishedAt), MONTH(publishedAt)\n",
    "ORDER BY YEAR(publishedAt), MONTH(publishedAt);"
   ]
  },
  {
   "cell_type": "code",
   "execution_count": 0,
   "metadata": {
    "application/vnd.databricks.v1+cell": {
     "cellMetadata": {
      "byteLimit": 2048000,
      "implicitDf": true,
      "rowLimit": 10000
     },
     "inputWidgets": {},
     "nuid": "68095bc6-1f77-4283-ab18-863301792852",
     "showTitle": false,
     "title": ""
    }
   },
   "outputs": [
    {
     "output_type": "display_data",
     "data": {
      "text/html": [
       "<style scoped>\n",
       "  .table-result-container {\n",
       "    max-height: 300px;\n",
       "    overflow: auto;\n",
       "  }\n",
       "  table, th, td {\n",
       "    border: 1px solid black;\n",
       "    border-collapse: collapse;\n",
       "  }\n",
       "  th, td {\n",
       "    padding: 5px;\n",
       "  }\n",
       "  th {\n",
       "    text-align: left;\n",
       "  }\n",
       "</style><div class='table-result-container'><table class='table-result'><thead style='background-color: white'><tr><th>info</th><th>key_word_RESEARCH</th><th>key_word_MEDICINAL</th><th>key_word_CANNABIS</th></tr></thead><tbody><tr><td>day_published: 1/Jan/1970</td><td>0</td><td>0</td><td>0</td></tr><tr><td>day_published: 2/Oct/2023</td><td>0</td><td>0</td><td>0</td></tr></tbody></table></div>"
      ]
     },
     "metadata": {
      "application/vnd.databricks.v1+output": {
       "addedWidgets": {},
       "aggData": [],
       "aggError": "",
       "aggOverflow": false,
       "aggSchema": [],
       "aggSeriesLimitReached": false,
       "aggType": "",
       "arguments": {},
       "columnCustomDisplayInfos": {},
       "data": [
        [
         "day_published: 1/Jan/1970",
         0,
         0,
         0
        ],
        [
         "day_published: 2/Oct/2023",
         0,
         0,
         0
        ]
       ],
       "datasetInfos": [],
       "dbfsResultPath": null,
       "isJsonSchema": true,
       "metadata": {},
       "overflow": false,
       "plotOptions": {
        "customPlotOptions": {},
        "displayType": "table",
        "pivotAggregation": null,
        "pivotColumns": null,
        "xColumns": null,
        "yColumns": null
       },
       "removedWidgets": [],
       "schema": [
        {
         "metadata": "{}",
         "name": "info",
         "type": "\"string\""
        },
        {
         "metadata": "{}",
         "name": "key_word_RESEARCH",
         "type": "\"long\""
        },
        {
         "metadata": "{}",
         "name": "key_word_MEDICINAL",
         "type": "\"long\""
        },
        {
         "metadata": "{}",
         "name": "key_word_CANNABIS",
         "type": "\"long\""
        }
       ],
       "type": "table"
      }
     },
     "output_type": "display_data"
    }
   ],
   "source": [
    "%sql\n",
    "/* returns how many times each key word appears in “content”, “description” and “title” per day */\n",
    "SELECT\n",
    "    CONCAT('day_published: ', DAY(publishedAt), '/', \n",
    "        CASE \n",
    "            WHEN MONTH(publishedAt) = 1 THEN 'Jan'\n",
    "            WHEN MONTH(publishedAt) = 2 THEN 'Feb'\n",
    "            WHEN MONTH(publishedAt) = 3 THEN 'Mar'\n",
    "            WHEN MONTH(publishedAt) = 4 THEN 'Apr'\n",
    "            WHEN MONTH(publishedAt) = 5 THEN 'May'\n",
    "            WHEN MONTH(publishedAt) = 6 THEN 'Jun'\n",
    "            WHEN MONTH(publishedAt) = 7 THEN 'Jul'\n",
    "            WHEN MONTH(publishedAt) = 8 THEN 'Aug'\n",
    "            WHEN MONTH(publishedAt) = 9 THEN 'Sep'\n",
    "            WHEN MONTH(publishedAt) = 10 THEN 'Oct'\n",
    "            WHEN MONTH(publishedAt) = 11 THEN 'Nov'\n",
    "            WHEN MONTH(publishedAt) = 12 THEN 'Dec'\n",
    "        END, '/', YEAR(publishedAt)) AS info,\n",
    "    SUM(REGEXP_COUNT(content, 'research')) AS key_word_RESEARCH,   \n",
    "    SUM(REGEXP_COUNT(description, 'medicinal')) AS key_word_MEDICINAL,\n",
    "    SUM(REGEXP_COUNT(title, 'cannabis')) AS key_word_CANNABIS\n",
    "FROM table_articles\n",
    "GROUP BY YEAR(publishedAt), MONTH(publishedAt), DAY(publishedAt)\n",
    "ORDER BY YEAR(publishedAt), MONTH(publishedAt), DAY(publishedAt);"
   ]
  }
 ],
 "metadata": {
  "application/vnd.databricks.v1+notebook": {
   "dashboards": [],
   "language": "python",
   "notebookMetadata": {
    "mostRecentlyExecutedCommandWithImplicitDF": {
     "commandId": 1204294191635146,
     "dataframes": [
      "_sqldf"
     ]
    },
    "pythonIndentUnit": 4
   },
   "notebookName": "7.consulta_ao_publico",
   "widgets": {}
  }
 },
 "nbformat": 4,
 "nbformat_minor": 0
}
