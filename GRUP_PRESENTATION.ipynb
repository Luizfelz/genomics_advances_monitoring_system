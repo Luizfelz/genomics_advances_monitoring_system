{
 "cells": [
  {
   "cell_type": "markdown",
   "metadata": {
    "application/vnd.databricks.v1+cell": {
     "cellMetadata": {},
     "inputWidgets": {},
     "nuid": "e3c85dd1-f12d-4e30-a3af-d93aef318742",
     "showTitle": false,
     "title": ""
    }
   },
   "source": [
    "###Integrantes do Grupo:\n",
    "- Bruno Rezende\n",
    "- Carlos Arturo\n",
    "- Kauê Adriano\n",
    "- Luiz Fonseca\n",
    "- Rafael Paixão\n",
    "\n",
    "O repositório do GitHub deste projeto pode ser encontrado [aqui]()."
   ]
  }
 ],
 "metadata": {
  "application/vnd.databricks.v1+notebook": {
   "dashboards": [],
   "language": "python",
   "notebookMetadata": {
    "pythonIndentUnit": 4
   },
   "notebookName": "APRESENTACAO_DO_GRUPO",
   "widgets": {}
  }
 },
 "nbformat": 4,
 "nbformat_minor": 0
}
