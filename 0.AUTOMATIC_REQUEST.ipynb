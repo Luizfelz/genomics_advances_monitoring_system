{
 "cells": [
  {
   "cell_type": "markdown",
   "metadata": {
    "application/vnd.databricks.v1+cell": {
     "cellMetadata": {
      "byteLimit": 2048000,
      "rowLimit": 10000
     },
     "inputWidgets": {},
     "nuid": "bd8899ce-3935-4a90-8364-f7b440655f5e",
     "showTitle": false,
     "title": ""
    }
   },
   "source": [
    "Neste notebook é feita a requisição automática para a News API a cada uma hora (sempre em horário inteiro, ou seja, terminados em 00 minutos).\n",
    "A requisição é, então, salva em uma tabela que será frequentemente atualizada com novos dados que são requisitados a cada hora."
   ]
  },
  {
   "cell_type": "code",
   "execution_count": 0,
   "metadata": {
    "application/vnd.databricks.v1+cell": {
     "cellMetadata": {
      "byteLimit": 2048000,
      "rowLimit": 10000
     },
     "inputWidgets": {},
     "nuid": "3622890b-438b-488a-8dcc-4aa54f5cea09",
     "showTitle": false,
     "title": ""
    }
   },
   "outputs": [],
   "source": [
    "import requests\n",
    "import json\n",
    "import time\n",
    "import urllib.parse\n",
    "from datetime import datetime, timedelta\n",
    "from pyspark.sql.types import StructType, StructField, StringType, MapType\n",
    "from pyspark.sql.functions import col "
   ]
  },
  {
   "cell_type": "code",
   "execution_count": 0,
   "metadata": {
    "application/vnd.databricks.v1+cell": {
     "cellMetadata": {
      "byteLimit": 2048000,
      "implicitDf": true,
      "rowLimit": 10000
     },
     "inputWidgets": {},
     "nuid": "53cf3ac1-ba41-470c-bb80-6d8c5b9c0a62",
     "showTitle": false,
     "title": ""
    }
   },
   "outputs": [
    {
     "output_type": "display_data",
     "data": {
      "text/html": [
       "<style scoped>\n",
       "  .table-result-container {\n",
       "    max-height: 300px;\n",
       "    overflow: auto;\n",
       "  }\n",
       "  table, th, td {\n",
       "    border: 1px solid black;\n",
       "    border-collapse: collapse;\n",
       "  }\n",
       "  th, td {\n",
       "    padding: 5px;\n",
       "  }\n",
       "  th {\n",
       "    text-align: left;\n",
       "  }\n",
       "</style><div class='table-result-container'><table class='table-result'><thead style='background-color: white'><tr></tr></thead><tbody></tbody></table></div>"
      ]
     },
     "metadata": {
      "application/vnd.databricks.v1+output": {
       "addedWidgets": {},
       "aggData": [],
       "aggError": "",
       "aggOverflow": false,
       "aggSchema": [],
       "aggSeriesLimitReached": false,
       "aggType": "",
       "arguments": {},
       "columnCustomDisplayInfos": {},
       "data": [],
       "datasetInfos": [],
       "dbfsResultPath": null,
       "isJsonSchema": true,
       "metadata": {},
       "overflow": false,
       "plotOptions": {
        "customPlotOptions": {},
        "displayType": "table",
        "pivotAggregation": null,
        "pivotColumns": null,
        "xColumns": null,
        "yColumns": null
       },
       "removedWidgets": [],
       "schema": [],
       "type": "table"
      }
     },
     "output_type": "display_data"
    }
   ],
   "source": [
    "%sql\n",
    "DROP TABLE IF EXISTS table_articles"
   ]
  },
  {
   "cell_type": "code",
   "execution_count": 0,
   "metadata": {
    "application/vnd.databricks.v1+cell": {
     "cellMetadata": {
      "byteLimit": 2048000,
      "rowLimit": 10000
     },
     "inputWidgets": {},
     "nuid": "2be41505-271a-4440-ab5b-5be53af2b002",
     "showTitle": false,
     "title": ""
    }
   },
   "outputs": [
    {
     "output_type": "stream",
     "name": "stdout",
     "output_type": "stream",
     "text": [
      "Request done! Total NEW articles found: 6\nMost recent article date/hour: 2023-10-03T19:00:36Z\n---------------------\n"
     ]
    },
    {
     "output_type": "display_data",
     "data": {
      "text/html": [
       "<style scoped>\n",
       "  .ansiout {\n",
       "    display: block;\n",
       "    unicode-bidi: embed;\n",
       "    white-space: pre-wrap;\n",
       "    word-wrap: break-word;\n",
       "    word-break: break-all;\n",
       "    font-family: \"Source Code Pro\", \"Menlo\", monospace;;\n",
       "    font-size: 13px;\n",
       "    color: #555;\n",
       "    margin-left: 4px;\n",
       "    line-height: 19px;\n",
       "  }\n",
       "</style>"
      ]
     },
     "metadata": {
      "application/vnd.databricks.v1+output": {
       "arguments": {},
       "data": "",
       "errorSummary": "Cancelled",
       "errorTraceType": "html",
       "metadata": {},
       "type": "ipynbError"
      }
     },
     "output_type": "display_data"
    }
   ],
   "source": [
    "# https://newsapi.org/\n",
    "\n",
    "MINUTE_TO_RUN_REQUEST = '00'  # 00\n",
    "\n",
    "# 7076253965e946c7bd9fce398dac2626\n",
    "# 8e7ff5750c804b09a640c4a0509ea78d\n",
    "API_KEY = '0264241255ba4cf2a91242c8c66784a7'\n",
    "key_words = ['research','AND','medicinal cannabis','NOT','recreative']\n",
    "key_words = ' '.join(key_words)\n",
    "key_words_url_encoded = urllib.parse.quote(key_words)\n",
    "\n",
    "schema = StructType([\n",
    "    StructField('author', StringType(), True),\n",
    "    StructField('content', StringType(), True),\n",
    "    StructField('description', StringType(), True),\n",
    "    StructField('publishedAt', StringType(), True),\n",
    "    StructField('source', MapType(StringType(), StringType(), True), True),\n",
    "    StructField('title', StringType(), True),\n",
    "    StructField('url', StringType(), True),\n",
    "    StructField('urlToImage', StringType(), True)\n",
    "    ])\n",
    "\n",
    "def request(date_from):\n",
    "    url = ('https://newsapi.org/v2/everything?'\n",
    "        'q={}&'\n",
    "        'from={}&'\n",
    "        'sortBy=publishedAt&'\n",
    "        'apiKey={}').format(key_words_url_encoded, date_from, API_KEY) \n",
    "    \n",
    "    response = requests.get(url)\n",
    "    resposta_json = response.json()\n",
    "\n",
    "    return resposta_json\n",
    "\n",
    "date_from = str(datetime.now() - timedelta(days=2, hours=1))\n",
    "articles_date_exist = False\n",
    "\n",
    "while True:\n",
    "    if str(datetime.now().minute) == MINUTE_TO_RUN_REQUEST:\n",
    "        resposta_json = request(date_from)\n",
    "        df_data_articles = spark.createDataFrame(resposta_json['articles'], schema=schema)\n",
    "        df_data_articles = df_data_articles.withColumn('source', col('source.name')) # <- this overwrites the colum \"source\" (type:map) to make a colum\n",
    "                                                                                     # (type:str) with only the name of the source (\"source id\" deleted)\n",
    "        \n",
    "        new_date_from = []\n",
    "        if spark.catalog.tableExists('table_articles'):\n",
    "            df_temp = spark.read.parquet('/FileStore/tables/table_articles')\n",
    "            df_data_articles = df_data_articles.subtract(df_temp)\n",
    "\n",
    "            date_from_table_articles = df_table_articles.orderBy(col('publishedAt').desc())\n",
    "            date_from_table_articles = date_from_table_articles.select('publishedAt').first()[0]\n",
    "            new_date_from.append(date_from_table_articles)\n",
    "            articles_date_exist = True\n",
    "\n",
    "        if not df_data_articles.isEmpty():\n",
    "            df_data = df_data_articles.orderBy(col('publishedAt').desc())\n",
    "            date_from_df_articles = df_data.select('publishedAt').first()[0]\n",
    "            new_date_from.append(date_from_df_articles)\n",
    "            articles_date_exist = True\n",
    "\n",
    "        if articles_date_exist: # if False, data_from will be the starting date_from variable, atributed before While\n",
    "            date_from = max(new_date_from)\n",
    "\n",
    "        df_data_articles = df_data_articles.filter(~col('source').contains('[Removed]'))\n",
    "        df_data_articles = df_data_articles.dropDuplicates()\n",
    "        df_data_articles.write.mode('append').format('parquet').option(\n",
    "        'path', '/FileStore/tables/table_articles').saveAsTable('table_articles')\n",
    "\n",
    "        print(f'Request done! Total NEW articles found: {df_data_articles.count()}')\n",
    "        print(f'Most recent article date/hour: {date_from}')\n",
    "        print('---------------------')\n",
    "\n",
    "        time.sleep(100) # 100 seconds"
   ]
  }
 ],
 "metadata": {
  "application/vnd.databricks.v1+notebook": {
   "dashboards": [],
   "language": "python",
   "notebookMetadata": {
    "mostRecentlyExecutedCommandWithImplicitDF": {
     "commandId": 2051242382924832,
     "dataframes": [
      "_sqldf"
     ]
    },
    "pythonIndentUnit": 4
   },
   "notebookName": "0.automatic_request",
   "widgets": {}
  }
 },
 "nbformat": 4,
 "nbformat_minor": 0
}
