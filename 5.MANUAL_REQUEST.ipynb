{
 "cells": [
  {
   "cell_type": "markdown",
   "metadata": {
    "application/vnd.databricks.v1+cell": {
     "cellMetadata": {},
     "inputWidgets": {},
     "nuid": "2fb99068-a146-481f-81dc-ae326c1c98c6",
     "showTitle": false,
     "title": ""
    }
   },
   "source": [
    "Neste notebook é feita a requisição manual na News API."
   ]
  },
  {
   "cell_type": "code",
   "execution_count": 0,
   "metadata": {
    "application/vnd.databricks.v1+cell": {
     "cellMetadata": {
      "byteLimit": 2048000,
      "rowLimit": 10000
     },
     "inputWidgets": {},
     "nuid": "12934d57-e0ae-4adf-803f-db491d4cd83b",
     "showTitle": false,
     "title": ""
    }
   },
   "outputs": [
    {
     "output_type": "stream",
     "name": "stdout",
     "output_type": "stream",
     "text": [
      "Out[1]: '\"Manual Request Received! Kafka topic: responseManualRequest]\"'"
     ]
    }
   ],
   "source": [
    "from datetime import datetime, timedelta\n",
    "import json,requests\n",
    "import urllib.parse\n",
    "\n",
    "url_ngrok = 'https://462b-35-90-241-14.ngrok.io'\n",
    "\n",
    "date = '2023-10-01T01:45:10'\n",
    "date_from = datetime.strptime(date, '%Y-%m-%dT%H:%M:%S')\n",
    "\n",
    "# 7076253965e946c7bd9fce398dac2626\n",
    "# 8e7ff5750c804b09a640c4a0509ea78d\n",
    "API_KEY = '0264241255ba4cf2a91242c8c66784a7'\n",
    "\n",
    "key_words = ['research','AND','medicinal cannabis','NOT','recreative']\n",
    "key_words = ' '.join(key_words)\n",
    "key_words_url_encoded = urllib.parse.quote(key_words)\n",
    "\n",
    "url = ('https://newsapi.org/v2/everything?'\n",
    "  'q={}&'\n",
    "  'from={}&'\n",
    "  'sortBy=publishedAt&'\n",
    "  'apiKey={}').format(key_words_url_encoded, date_from, API_KEY) \n",
    "\n",
    "response =  json.dumps(requests.get(url).json())\n",
    "requests.post(url_ngrok + '/webhook', json = response).text\n",
    "  "
   ]
  }
 ],
 "metadata": {
  "application/vnd.databricks.v1+notebook": {
   "dashboards": [],
   "language": "python",
   "notebookMetadata": {
    "pythonIndentUnit": 2
   },
   "notebookName": "5.manual_request_PRODUCER",
   "widgets": {}
  }
 },
 "nbformat": 4,
 "nbformat_minor": 0
}
