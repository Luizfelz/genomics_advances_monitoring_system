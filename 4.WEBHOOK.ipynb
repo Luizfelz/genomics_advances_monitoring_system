{
 "cells": [
  {
   "cell_type": "markdown",
   "metadata": {
    "application/vnd.databricks.v1+cell": {
     "cellMetadata": {
      "byteLimit": 2048000,
      "rowLimit": 10000
     },
     "inputWidgets": {},
     "nuid": "a34097f8-5348-4d89-be5e-05dd289d4739",
     "showTitle": false,
     "title": ""
    }
   },
   "source": [
    "Neste notebook é criado e configurado o Webhook que receberá a requisição manual e enviará as informações para o servidor Kafka."
   ]
  },
  {
   "cell_type": "code",
   "execution_count": 0,
   "metadata": {
    "application/vnd.databricks.v1+cell": {
     "cellMetadata": {
      "byteLimit": 2048000,
      "rowLimit": 10000
     },
     "inputWidgets": {},
     "nuid": "ff6616d2-461e-4f81-8ab3-0c09037c57ea",
     "showTitle": false,
     "title": ""
    }
   },
   "outputs": [
    {
     "output_type": "stream",
     "name": "stdout",
     "output_type": "stream",
     "text": [
      "Python interpreter will be restarted.\nCollecting flask\n  Downloading flask-3.0.0-py3-none-any.whl (99 kB)\nCollecting fastapi\n  Downloading fastapi-0.103.2-py3-none-any.whl (66 kB)\nCollecting uvicorn\n  Downloading uvicorn-0.23.2-py3-none-any.whl (59 kB)\nCollecting pyngrok\n  Downloading pyngrok-7.0.0.tar.gz (718 kB)\nCollecting kafka-python\n  Downloading kafka_python-2.0.2-py2.py3-none-any.whl (246 kB)\nCollecting importlib-metadata>=3.6.0\n  Downloading importlib_metadata-6.8.0-py3-none-any.whl (22 kB)\nCollecting Werkzeug>=3.0.0\n  Downloading werkzeug-3.0.0-py3-none-any.whl (226 kB)\nCollecting click>=8.1.3\n  Downloading click-8.1.7-py3-none-any.whl (97 kB)\nCollecting blinker>=1.6.2\n  Downloading blinker-1.6.2-py3-none-any.whl (13 kB)\nCollecting Jinja2>=3.1.2\n  Downloading Jinja2-3.1.2-py3-none-any.whl (133 kB)\nCollecting itsdangerous>=2.1.2\n  Downloading itsdangerous-2.1.2-py3-none-any.whl (15 kB)\nCollecting typing-extensions>=4.5.0\n  Downloading typing_extensions-4.8.0-py3-none-any.whl (31 kB)\nCollecting starlette<0.28.0,>=0.27.0\n  Downloading starlette-0.27.0-py3-none-any.whl (66 kB)\nCollecting anyio<4.0.0,>=3.7.1\n  Downloading anyio-3.7.1-py3-none-any.whl (80 kB)\nCollecting pydantic!=1.8,!=1.8.1,!=2.0.0,!=2.0.1,!=2.1.0,<3.0.0,>=1.7.4\n  Downloading pydantic-2.4.2-py3-none-any.whl (395 kB)\nCollecting h11>=0.8\n  Downloading h11-0.14.0-py3-none-any.whl (58 kB)\nCollecting PyYAML\n  Downloading PyYAML-6.0.1-cp39-cp39-manylinux_2_17_x86_64.manylinux2014_x86_64.whl (738 kB)\nRequirement already satisfied: idna>=2.8 in /databricks/python3/lib/python3.9/site-packages (from anyio<4.0.0,>=3.7.1->fastapi) (3.3)\nCollecting exceptiongroup\n  Downloading exceptiongroup-1.1.3-py3-none-any.whl (14 kB)\nCollecting sniffio>=1.1\n  Downloading sniffio-1.3.0-py3-none-any.whl (10 kB)\nCollecting zipp>=0.5\n  Downloading zipp-3.17.0-py3-none-any.whl (7.4 kB)\nRequirement already satisfied: MarkupSafe>=2.0 in /databricks/python3/lib/python3.9/site-packages (from Jinja2>=3.1.2->flask) (2.0.1)\nCollecting pydantic-core==2.10.1\n  Downloading pydantic_core-2.10.1-cp39-cp39-manylinux_2_17_x86_64.manylinux2014_x86_64.whl (2.1 MB)\nCollecting annotated-types>=0.4.0\n  Downloading annotated_types-0.5.0-py3-none-any.whl (11 kB)\nCollecting MarkupSafe>=2.0\n  Downloading MarkupSafe-2.1.3-cp39-cp39-manylinux_2_17_x86_64.manylinux2014_x86_64.whl (25 kB)\nBuilding wheels for collected packages: pyngrok\n  Building wheel for pyngrok (setup.py): started\n  Building wheel for pyngrok (setup.py): finished with status 'done'\n  Created wheel for pyngrok: filename=pyngrok-7.0.0-py3-none-any.whl size=21144 sha256=9dd26f2a540848b63e1d41e0556507574b498088fcd0fe559596b8130d871de7\n  Stored in directory: /root/.cache/pip/wheels/a1/27/d7/83363a0fd832c7e4be4a73ae8805f9b5410b40570ae8be7d67\nSuccessfully built pyngrok\nInstalling collected packages: typing-extensions, sniffio, exceptiongroup, zipp, pydantic-core, MarkupSafe, anyio, annotated-types, Werkzeug, starlette, PyYAML, pydantic, Jinja2, itsdangerous, importlib-metadata, h11, click, blinker, uvicorn, pyngrok, kafka-python, flask, fastapi\n  Attempting uninstall: typing-extensions\n    Found existing installation: typing-extensions 4.1.1\n    Not uninstalling typing-extensions at /databricks/python3/lib/python3.9/site-packages, outside environment /local_disk0/.ephemeral_nfs/envs/pythonEnv-8b153dcc-568f-4ebc-8bf7-7ecf9707d32e\n    Can't uninstall 'typing-extensions'. No files were found to uninstall.\n  Attempting uninstall: MarkupSafe\n    Found existing installation: MarkupSafe 2.0.1\n    Not uninstalling markupsafe at /databricks/python3/lib/python3.9/site-packages, outside environment /local_disk0/.ephemeral_nfs/envs/pythonEnv-8b153dcc-568f-4ebc-8bf7-7ecf9707d32e\n    Can't uninstall 'MarkupSafe'. No files were found to uninstall.\n  Attempting uninstall: Jinja2\n    Found existing installation: Jinja2 2.11.3\n    Not uninstalling jinja2 at /databricks/python3/lib/python3.9/site-packages, outside environment /local_disk0/.ephemeral_nfs/envs/pythonEnv-8b153dcc-568f-4ebc-8bf7-7ecf9707d32e\n    Can't uninstall 'Jinja2'. No files were found to uninstall.\n  Attempting uninstall: click\n    Found existing installation: click 8.0.4\n    Not uninstalling click at /databricks/python3/lib/python3.9/site-packages, outside environment /local_disk0/.ephemeral_nfs/envs/pythonEnv-8b153dcc-568f-4ebc-8bf7-7ecf9707d32e\n    Can't uninstall 'click'. No files were found to uninstall.\nSuccessfully installed Jinja2-3.1.2 MarkupSafe-2.1.3 PyYAML-6.0.1 Werkzeug-3.0.0 annotated-types-0.5.0 anyio-3.7.1 blinker-1.6.2 click-8.1.7 exceptiongroup-1.1.3 fastapi-0.103.2 flask-3.0.0 h11-0.14.0 importlib-metadata-6.8.0 itsdangerous-2.1.2 kafka-python-2.0.2 pydantic-2.4.2 pydantic-core-2.10.1 pyngrok-7.0.0 sniffio-1.3.0 starlette-0.27.0 typing-extensions-4.8.0 uvicorn-0.23.2 zipp-3.17.0\nPython interpreter will be restarted.\n"
     ]
    }
   ],
   "source": [
    "pip install flask fastapi uvicorn pyngrok kafka-python"
   ]
  },
  {
   "cell_type": "code",
   "execution_count": 0,
   "metadata": {
    "application/vnd.databricks.v1+cell": {
     "cellMetadata": {
      "byteLimit": 2048000,
      "rowLimit": 10000
     },
     "inputWidgets": {},
     "nuid": "9310e33a-fd84-4e14-99e0-3df6931afed8",
     "showTitle": false,
     "title": ""
    }
   },
   "outputs": [
    {
     "output_type": "stream",
     "name": "stdout",
     "output_type": "stream",
     "text": [
      "Downloading ngrok ...\rDownloading ngrok: 0%\rDownloading ngrok: 1%\rDownloading ngrok: 2%\rDownloading ngrok: 3%\rDownloading ngrok: 4%\rDownloading ngrok: 5%\rDownloading ngrok: 6%\rDownloading ngrok: 7%\rDownloading ngrok: 8%\rDownloading ngrok: 9%\rDownloading ngrok: 10%\rDownloading ngrok: 11%\rDownloading ngrok: 12%\rDownloading ngrok: 13%\rDownloading ngrok: 14%\rDownloading ngrok: 15%\rDownloading ngrok: 16%\rDownloading ngrok: 17%\rDownloading ngrok: 18%\rDownloading ngrok: 19%\rDownloading ngrok: 20%\rDownloading ngrok: 21%\rDownloading ngrok: 22%\rDownloading ngrok: 23%\rDownloading ngrok: 24%\rDownloading ngrok: 25%\rDownloading ngrok: 26%\rDownloading ngrok: 27%\rDownloading ngrok: 28%\rDownloading ngrok: 29%\rDownloading ngrok: 30%\rDownloading ngrok: 31%\rDownloading ngrok: 32%\rDownloading ngrok: 33%\rDownloading ngrok: 34%\rDownloading ngrok: 35%\rDownloading ngrok: 36%\rDownloading ngrok: 37%\rDownloading ngrok: 38%\rDownloading ngrok: 39%\rDownloading ngrok: 40%\rDownloading ngrok: 41%\rDownloading ngrok: 42%\rDownloading ngrok: 43%\rDownloading ngrok: 44%\rDownloading ngrok: 45%\rDownloading ngrok: 46%\rDownloading ngrok: 47%\rDownloading ngrok: 48%\rDownloading ngrok: 49%\rDownloading ngrok: 50%\rDownloading ngrok: 51%\rDownloading ngrok: 52%\rDownloading ngrok: 53%\rDownloading ngrok: 54%\rDownloading ngrok: 55%\rDownloading ngrok: 56%\rDownloading ngrok: 57%\rDownloading ngrok: 58%\rDownloading ngrok: 59%\rDownloading ngrok: 60%\rDownloading ngrok: 61%\rDownloading ngrok: 62%\rDownloading ngrok: 63%\rDownloading ngrok: 64%\rDownloading ngrok: 65%\rDownloading ngrok: 66%\rDownloading ngrok: 67%\rDownloading ngrok: 68%\rDownloading ngrok: 69%\rDownloading ngrok: 70%\rDownloading ngrok: 71%\rDownloading ngrok: 72%\rDownloading ngrok: 73%\rDownloading ngrok: 74%\rDownloading ngrok: 75%\rDownloading ngrok: 76%\rDownloading ngrok: 77%\rDownloading ngrok: 78%\rDownloading ngrok: 79%\rDownloading ngrok: 80%\rDownloading ngrok: 81%\rDownloading ngrok: 82%\rDownloading ngrok: 83%\rDownloading ngrok: 84%\rDownloading ngrok: 85%\rDownloading ngrok: 86%\rDownloading ngrok: 87%\rDownloading ngrok: 88%\rDownloading ngrok: 89%\rDownloading ngrok: 90%\rDownloading ngrok: 91%\rDownloading ngrok: 92%\rDownloading ngrok: 93%\rDownloading ngrok: 94%\rDownloading ngrok: 95%\rDownloading ngrok: 96%\rDownloading ngrok: 97%\rDownloading ngrok: 98%\rDownloading ngrok: 99%\rDownloading ngrok: 100%\r                                                                                                    \rInstalling ngrok ... \r                                                                                                    \r"
     ]
    },
    {
     "output_type": "stream",
     "name": "stderr",
     "output_type": "stream",
     "text": [
      "t=2023-10-04T23:16:13+0000 lvl=warn msg=\"ngrok config file found at legacy location, move to XDG location\" xdg_path=/root/.config/ngrok/ngrok.yml legacy_path=/root/.ngrok2/ngrok.yml\nINFO:     Started server process [18138]\nINFO:     Waiting for application startup.\nINFO:     Application startup complete.\nINFO:     Uvicorn running on http://127.0.0.1:8000 (Press CTRL+C to quit)\n"
     ]
    },
    {
     "output_type": "stream",
     "name": "stdout",
     "output_type": "stream",
     "text": [
      "-------------------------------------------------\nPublic URL: https://462b-35-90-241-14.ngrok.io\n-------------------------------------------------\nINFO:     35.90.241.14:0 - \"POST /webhook HTTP/1.1\" 200 OK\n"
     ]
    },
    {
     "output_type": "display_data",
     "data": {
      "text/html": [
       "<style scoped>\n",
       "  .ansiout {\n",
       "    display: block;\n",
       "    unicode-bidi: embed;\n",
       "    white-space: pre-wrap;\n",
       "    word-wrap: break-word;\n",
       "    word-break: break-all;\n",
       "    font-family: \"Source Code Pro\", \"Menlo\", monospace;;\n",
       "    font-size: 13px;\n",
       "    color: #555;\n",
       "    margin-left: 4px;\n",
       "    line-height: 19px;\n",
       "  }\n",
       "</style>"
      ]
     },
     "metadata": {
      "application/vnd.databricks.v1+output": {
       "arguments": {},
       "data": "",
       "errorSummary": "Cancelled",
       "errorTraceType": "html",
       "metadata": {},
       "type": "ipynbError"
      }
     },
     "output_type": "display_data"
    }
   ],
   "source": [
    "from kafka import KafkaProducer\n",
    "from pyngrok import ngrok\n",
    "from fastapi import FastAPI, Request\n",
    "import uvicorn,json\n",
    "\n",
    "app = FastAPI()\n",
    "\n",
    "@app.post('/webhook')\n",
    "async def webhook(request: Request):\n",
    "    data = await request.json()\n",
    "    producer = KafkaProducer(bootstrap_servers=['localhost:9092'])\n",
    "    json_data = data\n",
    "    message = json.dumps(json_data).encode('utf-8')\n",
    "    topic = 'responseManualRequest'\n",
    "    producer.send(topic, message)\n",
    "\n",
    "    return f'Manual Request Received! Kafka topic: {topic}]'\n",
    "\n",
    "port = 8000\n",
    "ngrok_tunnel = ngrok.connect(port)\n",
    "\n",
    "print('-------------------------------------------------')\n",
    "print('Public URL:', ngrok_tunnel.public_url)\n",
    "print('-------------------------------------------------')\n",
    "config = uvicorn.Config(app)\n",
    "server = uvicorn.Server(config)\n",
    "await server.serve()"
   ]
  }
 ],
 "metadata": {
  "application/vnd.databricks.v1+notebook": {
   "dashboards": [],
   "language": "python",
   "notebookMetadata": {
    "pythonIndentUnit": 2
   },
   "notebookName": "4.WEBHOOK",
   "widgets": {}
  }
 },
 "nbformat": 4,
 "nbformat_minor": 0
}
