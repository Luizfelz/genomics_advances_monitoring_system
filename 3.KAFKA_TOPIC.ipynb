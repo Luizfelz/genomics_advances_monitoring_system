{
 "cells": [
  {
   "cell_type": "markdown",
   "metadata": {
    "application/vnd.databricks.v1+cell": {
     "cellMetadata": {
      "byteLimit": 2048000,
      "rowLimit": 10000
     },
     "inputWidgets": {},
     "nuid": "830822f1-fe23-4c6c-b691-f9367f7a6599",
     "showTitle": false,
     "title": ""
    }
   },
   "source": [
    "Neste notebook é criado e configurado o tópico que será usado para armazenar as requisições feitas manualmente através do Webhook."
   ]
  },
  {
   "cell_type": "code",
   "execution_count": 0,
   "metadata": {
    "application/vnd.databricks.v1+cell": {
     "cellMetadata": {
      "byteLimit": 2048000,
      "rowLimit": 10000
     },
     "inputWidgets": {},
     "nuid": "442b6e50-5144-4d89-ba0c-4c02ab932924",
     "showTitle": false,
     "title": ""
    }
   },
   "outputs": [
    {
     "output_type": "stream",
     "name": "stdout",
     "output_type": "stream",
     "text": [
      "SLF4J: Class path contains multiple SLF4J bindings.\nSLF4J: Found binding in [jar:file:/databricks/jars/----ws_3_3--mvn--hadoop3--org.apache.logging.log4j--log4j-slf4j-impl--org.apache.logging.log4j__log4j-slf4j-impl__2.18.0.jar!/org/slf4j/impl/StaticLoggerBinder.class]\nSLF4J: Found binding in [jar:file:/databricks/driver/kafka_2.12-3.5.1/libs/slf4j-reload4j-1.7.36.jar!/org/slf4j/impl/StaticLoggerBinder.class]\nSLF4J: See http://www.slf4j.org/codes.html#multiple_bindings for an explanation.\nSLF4J: Actual binding is of type [org.apache.logging.slf4j.Log4jLoggerFactory]\nCreated topic responseManualRequest.\n"
     ]
    }
   ],
   "source": [
    "%sh\n",
    "./kafka_2.12-3.5.1/bin/kafka-topics.sh --bootstrap-server localhost:9092 --create --topic responseManualRequest --partitions 1 --replication-factor 1 --config retention.ms=3600000\n",
    "# 604800000 milliseconds = 7 days\n",
    "# 3600000 milliseconds = 1 h"
   ]
  },
  {
   "cell_type": "code",
   "execution_count": 0,
   "metadata": {
    "application/vnd.databricks.v1+cell": {
     "cellMetadata": {
      "byteLimit": 2048000,
      "rowLimit": 10000
     },
     "inputWidgets": {},
     "nuid": "f77a01f9-aec3-4cb2-bb84-3040055ee43f",
     "showTitle": false,
     "title": ""
    }
   },
   "outputs": [],
   "source": [
    "#%sh\n",
    "#./kafka_2.12-3.5.1/bin/kafka-topics.sh --bootstrap-server localhost:9092 --delete --topic responseManualRequest"
   ]
  }
 ],
 "metadata": {
  "application/vnd.databricks.v1+notebook": {
   "dashboards": [],
   "language": "python",
   "notebookMetadata": {
    "mostRecentlyExecutedCommandWithImplicitDF": {
     "commandId": 1014980191216828,
     "dataframes": [
      "_sqldf"
     ]
    },
    "pythonIndentUnit": 4
   },
   "notebookName": "3.TOPICO_KAFKA",
   "widgets": {}
  }
 },
 "nbformat": 4,
 "nbformat_minor": 0
}
